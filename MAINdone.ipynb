{
  "nbformat": 4,
  "nbformat_minor": 0,
  "metadata": {
    "colab": {
      "provenance": [],
      "gpuType": "T4",
      "include_colab_link": true
    },
    "kernelspec": {
      "name": "python3",
      "display_name": "Python 3"
    },
    "language_info": {
      "name": "python"
    },
    "accelerator": "GPU",
    "widgets": {
      "application/vnd.jupyter.widget-state+json": {
        "f25d7c010d0043f2bc3c825024a73f4e": {
          "model_module": "@jupyter-widgets/controls",
          "model_name": "HBoxModel",
          "model_module_version": "1.5.0",
          "state": {
            "_dom_classes": [],
            "_model_module": "@jupyter-widgets/controls",
            "_model_module_version": "1.5.0",
            "_model_name": "HBoxModel",
            "_view_count": null,
            "_view_module": "@jupyter-widgets/controls",
            "_view_module_version": "1.5.0",
            "_view_name": "HBoxView",
            "box_style": "",
            "children": [
              "IPY_MODEL_7bcdda7372cf464894731bf7aca32c1a",
              "IPY_MODEL_6d6ae888d0584b52a8db40a1fd9d2f88",
              "IPY_MODEL_6960464a4bd643659341632ab5b57dd0"
            ],
            "layout": "IPY_MODEL_9ee98bf29b704c6fa6f0c7ca0d83db96"
          }
        },
        "7bcdda7372cf464894731bf7aca32c1a": {
          "model_module": "@jupyter-widgets/controls",
          "model_name": "HTMLModel",
          "model_module_version": "1.5.0",
          "state": {
            "_dom_classes": [],
            "_model_module": "@jupyter-widgets/controls",
            "_model_module_version": "1.5.0",
            "_model_name": "HTMLModel",
            "_view_count": null,
            "_view_module": "@jupyter-widgets/controls",
            "_view_module_version": "1.5.0",
            "_view_name": "HTMLView",
            "description": "",
            "description_tooltip": null,
            "layout": "IPY_MODEL_bf89b9435a6b4d019d4cb427f5dd27bb",
            "placeholder": "​",
            "style": "IPY_MODEL_74412e976be3448398e79c9b5b54d054",
            "value": "  0%"
          }
        },
        "6d6ae888d0584b52a8db40a1fd9d2f88": {
          "model_module": "@jupyter-widgets/controls",
          "model_name": "FloatProgressModel",
          "model_module_version": "1.5.0",
          "state": {
            "_dom_classes": [],
            "_model_module": "@jupyter-widgets/controls",
            "_model_module_version": "1.5.0",
            "_model_name": "FloatProgressModel",
            "_view_count": null,
            "_view_module": "@jupyter-widgets/controls",
            "_view_module_version": "1.5.0",
            "_view_name": "ProgressView",
            "bar_style": "",
            "description": "",
            "description_tooltip": null,
            "layout": "IPY_MODEL_075fa821e45b4dcf8dba012a7ffecf40",
            "max": 12,
            "min": 0,
            "orientation": "horizontal",
            "style": "IPY_MODEL_5deead99c56c4809a7e3c6c5e0f97ffd",
            "value": 0
          }
        },
        "6960464a4bd643659341632ab5b57dd0": {
          "model_module": "@jupyter-widgets/controls",
          "model_name": "HTMLModel",
          "model_module_version": "1.5.0",
          "state": {
            "_dom_classes": [],
            "_model_module": "@jupyter-widgets/controls",
            "_model_module_version": "1.5.0",
            "_model_name": "HTMLModel",
            "_view_count": null,
            "_view_module": "@jupyter-widgets/controls",
            "_view_module_version": "1.5.0",
            "_view_name": "HTMLView",
            "description": "",
            "description_tooltip": null,
            "layout": "IPY_MODEL_3e9eba2e060542cfb2eab63d7124bad5",
            "placeholder": "​",
            "style": "IPY_MODEL_a88948338f7449ef93ac1e235abd482c",
            "value": " 0/12 [00:00&lt;?, ?it/s]"
          }
        },
        "9ee98bf29b704c6fa6f0c7ca0d83db96": {
          "model_module": "@jupyter-widgets/base",
          "model_name": "LayoutModel",
          "model_module_version": "1.2.0",
          "state": {
            "_model_module": "@jupyter-widgets/base",
            "_model_module_version": "1.2.0",
            "_model_name": "LayoutModel",
            "_view_count": null,
            "_view_module": "@jupyter-widgets/base",
            "_view_module_version": "1.2.0",
            "_view_name": "LayoutView",
            "align_content": null,
            "align_items": null,
            "align_self": null,
            "border": null,
            "bottom": null,
            "display": null,
            "flex": null,
            "flex_flow": null,
            "grid_area": null,
            "grid_auto_columns": null,
            "grid_auto_flow": null,
            "grid_auto_rows": null,
            "grid_column": null,
            "grid_gap": null,
            "grid_row": null,
            "grid_template_areas": null,
            "grid_template_columns": null,
            "grid_template_rows": null,
            "height": null,
            "justify_content": null,
            "justify_items": null,
            "left": null,
            "margin": null,
            "max_height": null,
            "max_width": null,
            "min_height": null,
            "min_width": null,
            "object_fit": null,
            "object_position": null,
            "order": null,
            "overflow": null,
            "overflow_x": null,
            "overflow_y": null,
            "padding": null,
            "right": null,
            "top": null,
            "visibility": null,
            "width": null
          }
        },
        "bf89b9435a6b4d019d4cb427f5dd27bb": {
          "model_module": "@jupyter-widgets/base",
          "model_name": "LayoutModel",
          "model_module_version": "1.2.0",
          "state": {
            "_model_module": "@jupyter-widgets/base",
            "_model_module_version": "1.2.0",
            "_model_name": "LayoutModel",
            "_view_count": null,
            "_view_module": "@jupyter-widgets/base",
            "_view_module_version": "1.2.0",
            "_view_name": "LayoutView",
            "align_content": null,
            "align_items": null,
            "align_self": null,
            "border": null,
            "bottom": null,
            "display": null,
            "flex": null,
            "flex_flow": null,
            "grid_area": null,
            "grid_auto_columns": null,
            "grid_auto_flow": null,
            "grid_auto_rows": null,
            "grid_column": null,
            "grid_gap": null,
            "grid_row": null,
            "grid_template_areas": null,
            "grid_template_columns": null,
            "grid_template_rows": null,
            "height": null,
            "justify_content": null,
            "justify_items": null,
            "left": null,
            "margin": null,
            "max_height": null,
            "max_width": null,
            "min_height": null,
            "min_width": null,
            "object_fit": null,
            "object_position": null,
            "order": null,
            "overflow": null,
            "overflow_x": null,
            "overflow_y": null,
            "padding": null,
            "right": null,
            "top": null,
            "visibility": null,
            "width": null
          }
        },
        "74412e976be3448398e79c9b5b54d054": {
          "model_module": "@jupyter-widgets/controls",
          "model_name": "DescriptionStyleModel",
          "model_module_version": "1.5.0",
          "state": {
            "_model_module": "@jupyter-widgets/controls",
            "_model_module_version": "1.5.0",
            "_model_name": "DescriptionStyleModel",
            "_view_count": null,
            "_view_module": "@jupyter-widgets/base",
            "_view_module_version": "1.2.0",
            "_view_name": "StyleView",
            "description_width": ""
          }
        },
        "075fa821e45b4dcf8dba012a7ffecf40": {
          "model_module": "@jupyter-widgets/base",
          "model_name": "LayoutModel",
          "model_module_version": "1.2.0",
          "state": {
            "_model_module": "@jupyter-widgets/base",
            "_model_module_version": "1.2.0",
            "_model_name": "LayoutModel",
            "_view_count": null,
            "_view_module": "@jupyter-widgets/base",
            "_view_module_version": "1.2.0",
            "_view_name": "LayoutView",
            "align_content": null,
            "align_items": null,
            "align_self": null,
            "border": null,
            "bottom": null,
            "display": null,
            "flex": null,
            "flex_flow": null,
            "grid_area": null,
            "grid_auto_columns": null,
            "grid_auto_flow": null,
            "grid_auto_rows": null,
            "grid_column": null,
            "grid_gap": null,
            "grid_row": null,
            "grid_template_areas": null,
            "grid_template_columns": null,
            "grid_template_rows": null,
            "height": null,
            "justify_content": null,
            "justify_items": null,
            "left": null,
            "margin": null,
            "max_height": null,
            "max_width": null,
            "min_height": null,
            "min_width": null,
            "object_fit": null,
            "object_position": null,
            "order": null,
            "overflow": null,
            "overflow_x": null,
            "overflow_y": null,
            "padding": null,
            "right": null,
            "top": null,
            "visibility": null,
            "width": null
          }
        },
        "5deead99c56c4809a7e3c6c5e0f97ffd": {
          "model_module": "@jupyter-widgets/controls",
          "model_name": "ProgressStyleModel",
          "model_module_version": "1.5.0",
          "state": {
            "_model_module": "@jupyter-widgets/controls",
            "_model_module_version": "1.5.0",
            "_model_name": "ProgressStyleModel",
            "_view_count": null,
            "_view_module": "@jupyter-widgets/base",
            "_view_module_version": "1.2.0",
            "_view_name": "StyleView",
            "bar_color": null,
            "description_width": ""
          }
        },
        "3e9eba2e060542cfb2eab63d7124bad5": {
          "model_module": "@jupyter-widgets/base",
          "model_name": "LayoutModel",
          "model_module_version": "1.2.0",
          "state": {
            "_model_module": "@jupyter-widgets/base",
            "_model_module_version": "1.2.0",
            "_model_name": "LayoutModel",
            "_view_count": null,
            "_view_module": "@jupyter-widgets/base",
            "_view_module_version": "1.2.0",
            "_view_name": "LayoutView",
            "align_content": null,
            "align_items": null,
            "align_self": null,
            "border": null,
            "bottom": null,
            "display": null,
            "flex": null,
            "flex_flow": null,
            "grid_area": null,
            "grid_auto_columns": null,
            "grid_auto_flow": null,
            "grid_auto_rows": null,
            "grid_column": null,
            "grid_gap": null,
            "grid_row": null,
            "grid_template_areas": null,
            "grid_template_columns": null,
            "grid_template_rows": null,
            "height": null,
            "justify_content": null,
            "justify_items": null,
            "left": null,
            "margin": null,
            "max_height": null,
            "max_width": null,
            "min_height": null,
            "min_width": null,
            "object_fit": null,
            "object_position": null,
            "order": null,
            "overflow": null,
            "overflow_x": null,
            "overflow_y": null,
            "padding": null,
            "right": null,
            "top": null,
            "visibility": null,
            "width": null
          }
        },
        "a88948338f7449ef93ac1e235abd482c": {
          "model_module": "@jupyter-widgets/controls",
          "model_name": "DescriptionStyleModel",
          "model_module_version": "1.5.0",
          "state": {
            "_model_module": "@jupyter-widgets/controls",
            "_model_module_version": "1.5.0",
            "_model_name": "DescriptionStyleModel",
            "_view_count": null,
            "_view_module": "@jupyter-widgets/base",
            "_view_module_version": "1.2.0",
            "_view_name": "StyleView",
            "description_width": ""
          }
        }
      }
    }
  },
  "cells": [
    {
      "cell_type": "markdown",
      "metadata": {
        "id": "view-in-github",
        "colab_type": "text"
      },
      "source": [
        "<a href=\"https://colab.research.google.com/github/Manvi1718/Emotion_Analysis/blob/main/MAINdone.ipynb\" target=\"_parent\"><img src=\"https://colab.research.google.com/assets/colab-badge.svg\" alt=\"Open In Colab\"/></a>"
      ]
    },
    {
      "cell_type": "markdown",
      "source": [
        "# EMOTION ANALYSIS"
      ],
      "metadata": {
        "id": "w13fqiwkuyH0"
      }
    },
    {
      "cell_type": "markdown",
      "source": [
        "## Connecting dataset with kaggle\n"
      ],
      "metadata": {
        "id": "T8WayqqMu1Kw"
      }
    },
    {
      "cell_type": "code",
      "source": [
        "import os\n",
        "os.environ[\"KAGGLE_USERNAME\"] = \"annmittal\"\n",
        "os.environ[\"KAGGLE_KEY\"] =\"b36a820c483a21bd0633e9b284bbc42c\"\n",
        "\n",
        "!kaggle datasets download -d shawon10/ckplus"
      ],
      "metadata": {
        "id": "vdAx2qciuz9p",
        "colab": {
          "base_uri": "https://localhost:8080/"
        },
        "outputId": "c5f29744-ecaa-49f2-97ac-339cd3eb1ed3"
      },
      "execution_count": 1,
      "outputs": [
        {
          "output_type": "stream",
          "name": "stdout",
          "text": [
            "Downloading ckplus.zip to /content\n",
            "\r  0% 0.00/3.63M [00:00<?, ?B/s]\n",
            "\r100% 3.63M/3.63M [00:00<00:00, 185MB/s]\n"
          ]
        }
      ]
    },
    {
      "cell_type": "code",
      "source": [
        "#!unzip ckplus.zip"
      ],
      "metadata": {
        "id": "5Z73bEnCvFoy"
      },
      "execution_count": 2,
      "outputs": []
    },
    {
      "cell_type": "markdown",
      "source": [
        "## Loading libraries"
      ],
      "metadata": {
        "id": "c9VZAbd1vkta"
      }
    },
    {
      "cell_type": "code",
      "source": [
        "pip install split-folders"
      ],
      "metadata": {
        "id": "PR5EQ7vF5dAc",
        "colab": {
          "base_uri": "https://localhost:8080/"
        },
        "outputId": "bd47c32d-99dc-4d7c-ae51-4995e0cbfa89"
      },
      "execution_count": 3,
      "outputs": [
        {
          "output_type": "stream",
          "name": "stdout",
          "text": [
            "Collecting split-folders\n",
            "  Downloading split_folders-0.5.1-py3-none-any.whl (8.4 kB)\n",
            "Installing collected packages: split-folders\n",
            "Successfully installed split-folders-0.5.1\n"
          ]
        }
      ]
    },
    {
      "cell_type": "code",
      "source": [
        "pip install efficientnet_pytorch"
      ],
      "metadata": {
        "id": "LyvbDVLgoxHq",
        "colab": {
          "base_uri": "https://localhost:8080/"
        },
        "outputId": "3c61abf7-b215-40c5-bb5c-271011d9ee52"
      },
      "execution_count": 4,
      "outputs": [
        {
          "output_type": "stream",
          "name": "stdout",
          "text": [
            "Collecting efficientnet_pytorch\n",
            "  Downloading efficientnet_pytorch-0.7.1.tar.gz (21 kB)\n",
            "  Preparing metadata (setup.py) ... \u001b[?25l\u001b[?25hdone\n",
            "Requirement already satisfied: torch in /usr/local/lib/python3.10/dist-packages (from efficientnet_pytorch) (2.1.0+cu118)\n",
            "Requirement already satisfied: filelock in /usr/local/lib/python3.10/dist-packages (from torch->efficientnet_pytorch) (3.12.4)\n",
            "Requirement already satisfied: typing-extensions in /usr/local/lib/python3.10/dist-packages (from torch->efficientnet_pytorch) (4.5.0)\n",
            "Requirement already satisfied: sympy in /usr/local/lib/python3.10/dist-packages (from torch->efficientnet_pytorch) (1.12)\n",
            "Requirement already satisfied: networkx in /usr/local/lib/python3.10/dist-packages (from torch->efficientnet_pytorch) (3.1)\n",
            "Requirement already satisfied: jinja2 in /usr/local/lib/python3.10/dist-packages (from torch->efficientnet_pytorch) (3.1.2)\n",
            "Requirement already satisfied: fsspec in /usr/local/lib/python3.10/dist-packages (from torch->efficientnet_pytorch) (2023.6.0)\n",
            "Requirement already satisfied: triton==2.1.0 in /usr/local/lib/python3.10/dist-packages (from torch->efficientnet_pytorch) (2.1.0)\n",
            "Requirement already satisfied: MarkupSafe>=2.0 in /usr/local/lib/python3.10/dist-packages (from jinja2->torch->efficientnet_pytorch) (2.1.3)\n",
            "Requirement already satisfied: mpmath>=0.19 in /usr/local/lib/python3.10/dist-packages (from sympy->torch->efficientnet_pytorch) (1.3.0)\n",
            "Building wheels for collected packages: efficientnet_pytorch\n",
            "  Building wheel for efficientnet_pytorch (setup.py) ... \u001b[?25l\u001b[?25hdone\n",
            "  Created wheel for efficientnet_pytorch: filename=efficientnet_pytorch-0.7.1-py3-none-any.whl size=16428 sha256=0a6dc492887375c10c463e1e0cd610fde6a305816ee370b9849648304b3f7cb1\n",
            "  Stored in directory: /root/.cache/pip/wheels/03/3f/e9/911b1bc46869644912bda90a56bcf7b960f20b5187feea3baf\n",
            "Successfully built efficientnet_pytorch\n",
            "Installing collected packages: efficientnet_pytorch\n",
            "Successfully installed efficientnet_pytorch-0.7.1\n"
          ]
        }
      ]
    },
    {
      "cell_type": "code",
      "source": [
        "import torch\n",
        "from torch import nn\n",
        "import torchvision\n",
        "from torch.utils import data\n",
        "from torch.utils.data import Dataset, DataLoader\n",
        "import torchvision.transforms as transforms\n",
        "#import albumentations\n",
        "#from albumentations import pytorch as AT\n",
        "import pandas as pd\n",
        "import numpy as np\n",
        "import matplotlib.pyplot as plt\n",
        "from PIL import Image\n",
        "import splitfolders\n",
        "from torchvision.datasets import ImageFolder\n",
        "import zipfile\n",
        "from efficientnet_pytorch import EfficientNet\n",
        "from tqdm.auto import tqdm"
      ],
      "metadata": {
        "id": "D5E8hRfWvR8P"
      },
      "execution_count": 5,
      "outputs": []
    },
    {
      "cell_type": "markdown",
      "source": [
        "## Setup device agnostic code"
      ],
      "metadata": {
        "id": "OjnMOIcgvs9M"
      }
    },
    {
      "cell_type": "code",
      "source": [
        "device = \"cuda\" if torch.cuda.is_available() else \"cpu\"\n",
        "device"
      ],
      "metadata": {
        "id": "HevHAo9ivpaG",
        "colab": {
          "base_uri": "https://localhost:8080/",
          "height": 36
        },
        "outputId": "e95e4dca-aa5d-47de-f643-004576f753a9"
      },
      "execution_count": 6,
      "outputs": [
        {
          "output_type": "execute_result",
          "data": {
            "text/plain": [
              "'cpu'"
            ],
            "application/vnd.google.colaboratory.intrinsic+json": {
              "type": "string"
            }
          },
          "metadata": {},
          "execution_count": 6
        }
      ]
    },
    {
      "cell_type": "code",
      "source": [
        "'''#Splitting dataset into train ,test and validation\n",
        "\n",
        "original=\"/content/drive/MyDrive/pytorch/ck+/CK+48\"\n",
        "splitted=\"/content/drive/MyDrive/pytorch/ck+/CK+48 splitted\"\n",
        "\n",
        "splitfolders.ratio(original,output=splitted,seed=1337,ratio=(.75,.25),group_prefix=None)\n",
        "'''"
      ],
      "metadata": {
        "id": "Jv6mx-WDwLf1",
        "colab": {
          "base_uri": "https://localhost:8080/",
          "height": 53
        },
        "outputId": "40a15d16-4f5f-4c00-9141-3625a048cfab"
      },
      "execution_count": 7,
      "outputs": [
        {
          "output_type": "execute_result",
          "data": {
            "text/plain": [
              "'#Splitting dataset into train ,test and validation\\n\\noriginal=\"/content/drive/MyDrive/pytorch/ck+/CK+48\"\\nsplitted=\"/content/drive/MyDrive/pytorch/ck+/CK+48 splitted\"\\n\\nsplitfolders.ratio(original,output=splitted,seed=1337,ratio=(.75,.25),group_prefix=None)\\n'"
            ],
            "application/vnd.google.colaboratory.intrinsic+json": {
              "type": "string"
            }
          },
          "metadata": {},
          "execution_count": 7
        }
      ]
    },
    {
      "cell_type": "code",
      "source": [
        "# Mount Google Drive\n",
        "from google.colab import drive\n",
        "drive.mount('/content/drive')"
      ],
      "metadata": {
        "id": "XLCEQeSgwnlz",
        "colab": {
          "base_uri": "https://localhost:8080/"
        },
        "outputId": "ae44414c-4df7-414f-a4de-f955716919db"
      },
      "execution_count": 8,
      "outputs": [
        {
          "output_type": "stream",
          "name": "stdout",
          "text": [
            "Mounted at /content/drive\n"
          ]
        }
      ]
    },
    {
      "cell_type": "code",
      "source": [
        "%cd '/content/drive/MyDrive/train_test'"
      ],
      "metadata": {
        "id": "X_Gczzx3woCt",
        "colab": {
          "base_uri": "https://localhost:8080/"
        },
        "outputId": "f334e5bb-cf54-4fc2-fbf1-29d584b09c33"
      },
      "execution_count": 9,
      "outputs": [
        {
          "output_type": "stream",
          "name": "stdout",
          "text": [
            "/content/drive/MyDrive/train_test\n"
          ]
        }
      ]
    },
    {
      "cell_type": "code",
      "source": [
        "# To unzip files\n",
        "\"\"\"\n",
        "#Extract Zip File\n",
        "with zipfile.ZipFile('train.zip', 'r') as zip_ref:\n",
        "    zip_ref.extractall('train')\n",
        "\n",
        "with zipfile.ZipFile('test.zip', 'r') as zip_ref:\n",
        "    zip_ref.extractall('test')\n",
        "\"\"\""
      ],
      "metadata": {
        "id": "LhvAvEpBwwPw",
        "colab": {
          "base_uri": "https://localhost:8080/",
          "height": 53
        },
        "outputId": "96be83f6-ebf2-4096-f3e7-4773a885539c"
      },
      "execution_count": 10,
      "outputs": [
        {
          "output_type": "execute_result",
          "data": {
            "text/plain": [
              "\"\\n#Extract Zip File\\nwith zipfile.ZipFile('train.zip', 'r') as zip_ref:\\n    zip_ref.extractall('train')\\n\\nwith zipfile.ZipFile('test.zip', 'r') as zip_ref:\\n    zip_ref.extractall('test')\\n\""
            ],
            "application/vnd.google.colaboratory.intrinsic+json": {
              "type": "string"
            }
          },
          "metadata": {},
          "execution_count": 10
        }
      ]
    },
    {
      "cell_type": "code",
      "source": [
        "\"\"\"\n",
        "# Define transformations, including converting to grayscale\n",
        "transform = transforms.Compose([\n",
        "    transforms.Resize((224, 224)),\n",
        "    transforms.Grayscale(num_output_channels=3),  # Convert to grayscale with 1 channel\n",
        "    transforms.ToTensor(),\n",
        "    transforms.Normalize(mean=[0.485], std=[0.229]),  # Adjust mean and std for 1-channel grayscale\n",
        "])\n",
        "\"\"\"\n",
        "\n",
        "# Define transformations, including converting to grayscale and data augmentation\n",
        "transform = transforms.Compose([\n",
        "    transforms.Resize((224, 224)),  # Resize to a consistent size\n",
        "    transforms.Grayscale(num_output_channels=3),\n",
        "    transforms.RandomHorizontalFlip(),  # Randomly flip the image horizontally\n",
        "    transforms.RandomRotation(degrees=15),  # Randomly rotate the image by up to 15 degrees\n",
        "    transforms.ColorJitter(brightness=0.2, contrast=0.2, saturation=0.2, hue=0.1),  # Adjust brightness, contrast, saturation, and hue\n",
        "    transforms.RandomResizedCrop(224, scale=(0.8, 1.0), ratio=(0.9, 1.1)),  # Randomly crop and resize the image\n",
        "    transforms.ToTensor(),  # Convert to a tensor\n",
        "    transforms.Normalize(mean=[0.485, 0.456, 0.406], std=[0.229, 0.224, 0.225]),  # Normalize using ImageNet statistics\n",
        "])\n"
      ],
      "metadata": {
        "id": "9SM-OOQkybYo"
      },
      "execution_count": 11,
      "outputs": []
    },
    {
      "cell_type": "code",
      "source": [
        "# Path to the root directory of your train and test data in Google Drive\n",
        "train_data_path = '/content/drive/MyDrive/train_test/train/train_d'\n",
        "test_data_path = '/content/drive/MyDrive/train_test/test/test_d'\n",
        "\n",
        "# List of emotion labels\n",
        "emotion_labels = [\n",
        "    'anger', 'contempt', 'disgust', 'fear', 'happiness', 'sadness', 'surprise'\n",
        "]"
      ],
      "metadata": {
        "id": "qAZqDQLrybOj"
      },
      "execution_count": 12,
      "outputs": []
    },
    {
      "cell_type": "code",
      "source": [
        "class CustomDataset(Dataset):\n",
        "    def __init__(self, root, transform=None):\n",
        "        self.root = root\n",
        "        self.transform = transform\n",
        "        self.image_paths = [os.path.join(root, filename) for filename in os.listdir(root) if filename.endswith(\".png\")]\n",
        "\n",
        "    def __len__(self):\n",
        "        return len(self.image_paths)\n",
        "\n",
        "    def __getitem__(self, idx):\n",
        "        image_path = self.image_paths[idx]\n",
        "        image = Image.open(image_path)\n",
        "\n",
        "        if self.transform:\n",
        "            image = self.transform(image)\n",
        "\n",
        "        # Manually extract the emotion label from the filename\n",
        "        emotion_label = image_path.split('/')[-1].split('_')[0]\n",
        "\n",
        "        # Handle variations in emotion labels\n",
        "        if emotion_label == 'happy':\n",
        "            emotion_label = 'happiness'\n",
        "\n",
        "        # Get the label index from the emotion_labels list\n",
        "        label = emotion_labels.index(emotion_label)\n",
        "\n",
        "        return image, label"
      ],
      "metadata": {
        "id": "SjWO_OYMybJZ"
      },
      "execution_count": 13,
      "outputs": []
    },
    {
      "cell_type": "code",
      "source": [
        "# Load custom train and test datasets\n",
        "train_dataset = CustomDataset(train_data_path, transform=transform)\n",
        "test_dataset = CustomDataset(test_data_path, transform=transform)"
      ],
      "metadata": {
        "id": "ypzl3v3hybE-"
      },
      "execution_count": 14,
      "outputs": []
    },
    {
      "cell_type": "code",
      "source": [
        "# Create DataLoaders\n",
        "batch_size = 32\n",
        "train_dataloader = DataLoader(train_dataset, batch_size=batch_size, shuffle=True)\n",
        "test_dataloader = DataLoader(test_dataset, batch_size=batch_size, shuffle=False)"
      ],
      "metadata": {
        "id": "KdEyfZQTyrnP"
      },
      "execution_count": 15,
      "outputs": []
    },
    {
      "cell_type": "code",
      "source": [
        "\"\"\"# Access labels in the train DataLoader\n",
        "for images, labels in train_dataloader:\n",
        "    for label in labels:\n",
        "        emotion_label = emotion_labels[label]\n",
        "        print(f\"Train Emotion Label: {emotion_label}\")\n",
        "\n",
        "# Access labels in the test DataLoader\n",
        "for images, labels in test_dataloader:\n",
        "    for label in labels:\n",
        "        emotion_label = emotion_labels[label]\n",
        "        print(f\"Test Emotion Label: {emotion_label}\")\n",
        "\"\"\""
      ],
      "metadata": {
        "id": "pVaCBSNlyved",
        "colab": {
          "base_uri": "https://localhost:8080/",
          "height": 70
        },
        "outputId": "a9d0b003-07d5-48e9-904b-93b3340f2b82"
      },
      "execution_count": 16,
      "outputs": [
        {
          "output_type": "execute_result",
          "data": {
            "text/plain": [
              "'# Access labels in the train DataLoader\\nfor images, labels in train_dataloader:\\n    for label in labels:\\n        emotion_label = emotion_labels[label]\\n        print(f\"Train Emotion Label: {emotion_label}\")\\n\\n# Access labels in the test DataLoader\\nfor images, labels in test_dataloader:\\n    for label in labels:\\n        emotion_label = emotion_labels[label]\\n        print(f\"Test Emotion Label: {emotion_label}\")\\n'"
            ],
            "application/vnd.google.colaboratory.intrinsic+json": {
              "type": "string"
            }
          },
          "metadata": {},
          "execution_count": 16
        }
      ]
    },
    {
      "cell_type": "code",
      "source": [
        "len(train_dataloader) , len(test_dataloader)"
      ],
      "metadata": {
        "id": "kcV0bEb8y4-y",
        "colab": {
          "base_uri": "https://localhost:8080/"
        },
        "outputId": "a4717ed4-69e0-4c74-a7ce-f3640f9c8cef"
      },
      "execution_count": 17,
      "outputs": [
        {
          "output_type": "execute_result",
          "data": {
            "text/plain": [
              "(23, 8)"
            ]
          },
          "metadata": {},
          "execution_count": 17
        }
      ]
    },
    {
      "cell_type": "code",
      "source": [
        "len(train_dataset) , len(test_dataset)"
      ],
      "metadata": {
        "id": "g44hDFobzMeN",
        "colab": {
          "base_uri": "https://localhost:8080/"
        },
        "outputId": "6360de97-c88a-4c95-ff20-1232275ffa2c"
      },
      "execution_count": 18,
      "outputs": [
        {
          "output_type": "execute_result",
          "data": {
            "text/plain": [
              "(725, 248)"
            ]
          },
          "metadata": {},
          "execution_count": 18
        }
      ]
    },
    {
      "cell_type": "code",
      "source": [
        "# see the first training example\n",
        "image , label = train_dataset[0]\n",
        "image , label"
      ],
      "metadata": {
        "id": "y_eBrFRZzOL2",
        "colab": {
          "base_uri": "https://localhost:8080/"
        },
        "outputId": "d441cc58-bf73-44fc-b7bf-b467bfd92d97"
      },
      "execution_count": 19,
      "outputs": [
        {
          "output_type": "execute_result",
          "data": {
            "text/plain": [
              "(tensor([[[-2.1179, -2.1179, -2.1179,  ..., -2.1179, -2.1179, -2.1179],\n",
              "          [-2.1179, -2.1179, -2.1179,  ..., -2.1179, -2.1179, -2.1179],\n",
              "          [-2.1179, -2.1179, -2.1179,  ..., -2.1179, -2.1179, -2.1179],\n",
              "          ...,\n",
              "          [-2.1179, -2.1179, -2.1179,  ..., -2.1179, -2.1179, -2.1179],\n",
              "          [-2.1179, -2.1179, -2.1179,  ..., -2.1179, -2.1179, -2.1179],\n",
              "          [-2.1179, -2.1179, -2.1179,  ..., -2.1179, -2.1179, -2.1179]],\n",
              " \n",
              "         [[-2.0357, -2.0357, -2.0357,  ..., -2.0357, -2.0357, -2.0357],\n",
              "          [-2.0357, -2.0357, -2.0357,  ..., -2.0357, -2.0357, -2.0357],\n",
              "          [-2.0357, -2.0357, -2.0357,  ..., -2.0357, -2.0357, -2.0357],\n",
              "          ...,\n",
              "          [-2.0357, -2.0357, -2.0357,  ..., -2.0357, -2.0357, -2.0357],\n",
              "          [-2.0357, -2.0357, -2.0357,  ..., -2.0357, -2.0357, -2.0357],\n",
              "          [-2.0357, -2.0357, -2.0357,  ..., -2.0357, -2.0357, -2.0357]],\n",
              " \n",
              "         [[-1.8044, -1.8044, -1.8044,  ..., -1.8044, -1.8044, -1.8044],\n",
              "          [-1.8044, -1.8044, -1.8044,  ..., -1.8044, -1.8044, -1.8044],\n",
              "          [-1.8044, -1.8044, -1.8044,  ..., -1.8044, -1.8044, -1.8044],\n",
              "          ...,\n",
              "          [-1.8044, -1.8044, -1.8044,  ..., -1.8044, -1.8044, -1.8044],\n",
              "          [-1.8044, -1.8044, -1.8044,  ..., -1.8044, -1.8044, -1.8044],\n",
              "          [-1.8044, -1.8044, -1.8044,  ..., -1.8044, -1.8044, -1.8044]]]),\n",
              " 6)"
            ]
          },
          "metadata": {},
          "execution_count": 19
        }
      ]
    },
    {
      "cell_type": "code",
      "source": [
        "class_names=emotion_labels\n",
        "class_names"
      ],
      "metadata": {
        "id": "mIEG1GzCzdW2",
        "colab": {
          "base_uri": "https://localhost:8080/"
        },
        "outputId": "b3bfdab7-5c4c-42eb-91e6-5d9dc16499a4"
      },
      "execution_count": 20,
      "outputs": [
        {
          "output_type": "execute_result",
          "data": {
            "text/plain": [
              "['anger', 'contempt', 'disgust', 'fear', 'happiness', 'sadness', 'surprise']"
            ]
          },
          "metadata": {},
          "execution_count": 20
        }
      ]
    },
    {
      "cell_type": "code",
      "source": [
        "# Chcek the shape\n",
        "print(f\"image shape : {image.shape}\")\n",
        "print(f\"image label : {class_names[label]}\")"
      ],
      "metadata": {
        "id": "p_fC1wHJz1PJ",
        "colab": {
          "base_uri": "https://localhost:8080/"
        },
        "outputId": "08b0427a-626d-4bd1-a843-42ff67838446"
      },
      "execution_count": 21,
      "outputs": [
        {
          "output_type": "stream",
          "name": "stdout",
          "text": [
            "image shape : torch.Size([3, 224, 224])\n",
            "image label : surprise\n"
          ]
        }
      ]
    },
    {
      "cell_type": "code",
      "source": [
        "print(emotion_labels[3])"
      ],
      "metadata": {
        "id": "XHatcBgh0EA_",
        "colab": {
          "base_uri": "https://localhost:8080/"
        },
        "outputId": "dacd47e3-9f15-4b24-8801-72250c3ee9cd"
      },
      "execution_count": 22,
      "outputs": [
        {
          "output_type": "stream",
          "name": "stdout",
          "text": [
            "fear\n"
          ]
        }
      ]
    },
    {
      "cell_type": "code",
      "source": [
        "# Assuming your image is in the shape (3, 224, 224)\n",
        "image = image.permute(1, 2, 0)\n",
        "\n",
        "plt.imshow(image)\n",
        "plt.title(emotion_labels[label])\n",
        "plt.show()\n"
      ],
      "metadata": {
        "id": "NQgg98S60m5v",
        "colab": {
          "base_uri": "https://localhost:8080/",
          "height": 469
        },
        "outputId": "36136d82-ce5d-499c-89b7-a04cf461b3f2"
      },
      "execution_count": 23,
      "outputs": [
        {
          "output_type": "stream",
          "name": "stderr",
          "text": [
            "WARNING:matplotlib.image:Clipping input data to the valid range for imshow with RGB data ([0..1] for floats or [0..255] for integers).\n"
          ]
        },
        {
          "output_type": "display_data",
          "data": {
            "text/plain": [
              "<Figure size 640x480 with 1 Axes>"
            ],
            "image/png": "[encoded data removed]"
          },
          "metadata": {}
        }
      ]
    },
    {
      "cell_type": "code",
      "source": [
        "from torchvision.transforms import Grayscale"
      ],
      "metadata": {
        "id": "EebKtW5Ir4gJ"
      },
      "execution_count": 24,
      "outputs": []
    },
    {
      "cell_type": "code",
      "source": [
        "# plot more images\n",
        "torch.manual_seed(42)\n",
        "fig =plt.figure(figsize = (9,9))\n",
        "rows , cols = 4,4\n",
        "\n",
        "transform = Grayscale(num_output_channels=1)\n",
        "\n",
        "for i in range(1,rows*cols+1):\n",
        "  random_idx = torch.randint(0,len(train_dataset) , size =[1]).item()\n",
        "  img , label = train_dataset[random_idx]\n",
        "\n",
        "  img= transform(img)\n",
        "\n",
        "  fig.add_subplot(rows,cols , i)\n",
        "  plt.imshow(img.squeeze() ,cmap=\"gray\")\n",
        "  plt.title(emotion_labels[label])\n",
        "  plt.axis(False)"
      ],
      "metadata": {
        "id": "IfBvkJ5B2RPE",
        "colab": {
          "base_uri": "https://localhost:8080/",
          "height": 752
        },
        "outputId": "cf253a49-4e71-47e5-ec04-8723aa4ae4f5"
      },
      "execution_count": 25,
      "outputs": [
        {
          "output_type": "display_data",
          "data": {
            "text/plain": [
              "<Figure size 900x900 with 16 Axes>"
            ],
            "image/png": "[encoded data removed]"
          },
          "metadata": {}
        }
      ]
    },
    {
      "cell_type": "code",
      "source": [
        "train_dataset , test_dataset"
      ],
      "metadata": {
        "id": "IZY6vOal2km7",
        "colab": {
          "base_uri": "https://localhost:8080/"
        },
        "outputId": "3d78805b-671e-4e2b-b8f4-0b7447baa14d"
      },
      "execution_count": 26,
      "outputs": [
        {
          "output_type": "execute_result",
          "data": {
            "text/plain": [
              "(<__main__.CustomDataset at 0x7a9797928eb0>,\n",
              " <__main__.CustomDataset at 0x7a979792ab60>)"
            ]
          },
          "metadata": {},
          "execution_count": 26
        }
      ]
    },
    {
      "cell_type": "code",
      "source": [
        "\n",
        "# Lets check out what we have created\n",
        "print(f\"dataloaders : {train_dataloader , test_dataloader}\")\n",
        "print(f\" length of train_dataloader : {len(train_dataloader)} batches of {batch_size}....\")\n",
        "print(f\" length of test_dataloader : {len(test_dataloader)} batches of {batch_size}...\")"
      ],
      "metadata": {
        "id": "YF_d-4_H2-pC",
        "colab": {
          "base_uri": "https://localhost:8080/"
        },
        "outputId": "3ad37e9a-eafa-4e2f-ea5f-f3a80b93c45f"
      },
      "execution_count": 27,
      "outputs": [
        {
          "output_type": "stream",
          "name": "stdout",
          "text": [
            "dataloaders : (<torch.utils.data.dataloader.DataLoader object at 0x7a979792a800>, <torch.utils.data.dataloader.DataLoader object at 0x7a979792af80>)\n",
            " length of train_dataloader : 23 batches of 32....\n",
            " length of test_dataloader : 8 batches of 32...\n"
          ]
        }
      ]
    },
    {
      "cell_type": "code",
      "source": [
        "# Check out whats inside the training dataloader\n",
        "train_features_batch , train_labels_batch = next(iter(train_dataloader))\n",
        "train_features_batch.shape , train_labels_batch.shape"
      ],
      "metadata": {
        "id": "wVFIQfiO3Q_y",
        "colab": {
          "base_uri": "https://localhost:8080/"
        },
        "outputId": "7648f959-672e-4156-ff7a-24492ee416c7"
      },
      "execution_count": 28,
      "outputs": [
        {
          "output_type": "execute_result",
          "data": {
            "text/plain": [
              "(torch.Size([32, 3, 224, 224]), torch.Size([32]))"
            ]
          },
          "metadata": {},
          "execution_count": 28
        }
      ]
    },
    {
      "cell_type": "markdown",
      "source": [
        "#Importing models"
      ],
      "metadata": {
        "id": "3Kb6aLUwpgF8"
      }
    },
    {
      "cell_type": "code",
      "source": [
        "import torchvision.models as models\n",
        "dir(models)"
      ],
      "metadata": {
        "id": "dUsIUSlEhE6Z",
        "colab": {
          "base_uri": "https://localhost:8080/"
        },
        "outputId": "943cf955-4712-4bb4-aee5-3b908d80403c"
      },
      "execution_count": 29,
      "outputs": [
        {
          "output_type": "execute_result",
          "data": {
            "text/plain": [
              "['AlexNet',\n",
              " 'AlexNet_Weights',\n",
              " 'ConvNeXt',\n",
              " 'ConvNeXt_Base_Weights',\n",
              " 'ConvNeXt_Large_Weights',\n",
              " 'ConvNeXt_Small_Weights',\n",
              " 'ConvNeXt_Tiny_Weights',\n",
              " 'DenseNet',\n",
              " 'DenseNet121_Weights',\n",
              " 'DenseNet161_Weights',\n",
              " 'DenseNet169_Weights',\n",
              " 'DenseNet201_Weights',\n",
              " 'EfficientNet',\n",
              " 'EfficientNet_B0_Weights',\n",
              " 'EfficientNet_B1_Weights',\n",
              " 'EfficientNet_B2_Weights',\n",
              " 'EfficientNet_B3_Weights',\n",
              " 'EfficientNet_B4_Weights',\n",
              " 'EfficientNet_B5_Weights',\n",
              " 'EfficientNet_B6_Weights',\n",
              " 'EfficientNet_B7_Weights',\n",
              " 'EfficientNet_V2_L_Weights',\n",
              " 'EfficientNet_V2_M_Weights',\n",
              " 'EfficientNet_V2_S_Weights',\n",
              " 'GoogLeNet',\n",
              " 'GoogLeNetOutputs',\n",
              " 'GoogLeNet_Weights',\n",
              " 'Inception3',\n",
              " 'InceptionOutputs',\n",
              " 'Inception_V3_Weights',\n",
              " 'MNASNet',\n",
              " 'MNASNet0_5_Weights',\n",
              " 'MNASNet0_75_Weights',\n",
              " 'MNASNet1_0_Weights',\n",
              " 'MNASNet1_3_Weights',\n",
              " 'MaxVit',\n",
              " 'MaxVit_T_Weights',\n",
              " 'MobileNetV2',\n",
              " 'MobileNetV3',\n",
              " 'MobileNet_V2_Weights',\n",
              " 'MobileNet_V3_Large_Weights',\n",
              " 'MobileNet_V3_Small_Weights',\n",
              " 'RegNet',\n",
              " 'RegNet_X_16GF_Weights',\n",
              " 'RegNet_X_1_6GF_Weights',\n",
              " 'RegNet_X_32GF_Weights',\n",
              " 'RegNet_X_3_2GF_Weights',\n",
              " 'RegNet_X_400MF_Weights',\n",
              " 'RegNet_X_800MF_Weights',\n",
              " 'RegNet_X_8GF_Weights',\n",
              " 'RegNet_Y_128GF_Weights',\n",
              " 'RegNet_Y_16GF_Weights',\n",
              " 'RegNet_Y_1_6GF_Weights',\n",
              " 'RegNet_Y_32GF_Weights',\n",
              " 'RegNet_Y_3_2GF_Weights',\n",
              " 'RegNet_Y_400MF_Weights',\n",
              " 'RegNet_Y_800MF_Weights',\n",
              " 'RegNet_Y_8GF_Weights',\n",
              " 'ResNeXt101_32X8D_Weights',\n",
              " 'ResNeXt101_64X4D_Weights',\n",
              " 'ResNeXt50_32X4D_Weights',\n",
              " 'ResNet',\n",
              " 'ResNet101_Weights',\n",
              " 'ResNet152_Weights',\n",
              " 'ResNet18_Weights',\n",
              " 'ResNet34_Weights',\n",
              " 'ResNet50_Weights',\n",
              " 'ShuffleNetV2',\n",
              " 'ShuffleNet_V2_X0_5_Weights',\n",
              " 'ShuffleNet_V2_X1_0_Weights',\n",
              " 'ShuffleNet_V2_X1_5_Weights',\n",
              " 'ShuffleNet_V2_X2_0_Weights',\n",
              " 'SqueezeNet',\n",
              " 'SqueezeNet1_0_Weights',\n",
              " 'SqueezeNet1_1_Weights',\n",
              " 'SwinTransformer',\n",
              " 'Swin_B_Weights',\n",
              " 'Swin_S_Weights',\n",
              " 'Swin_T_Weights',\n",
              " 'Swin_V2_B_Weights',\n",
              " 'Swin_V2_S_Weights',\n",
              " 'Swin_V2_T_Weights',\n",
              " 'VGG',\n",
              " 'VGG11_BN_Weights',\n",
              " 'VGG11_Weights',\n",
              " 'VGG13_BN_Weights',\n",
              " 'VGG13_Weights',\n",
              " 'VGG16_BN_Weights',\n",
              " 'VGG16_Weights',\n",
              " 'VGG19_BN_Weights',\n",
              " 'VGG19_Weights',\n",
              " 'ViT_B_16_Weights',\n",
              " 'ViT_B_32_Weights',\n",
              " 'ViT_H_14_Weights',\n",
              " 'ViT_L_16_Weights',\n",
              " 'ViT_L_32_Weights',\n",
              " 'VisionTransformer',\n",
              " 'Weights',\n",
              " 'WeightsEnum',\n",
              " 'Wide_ResNet101_2_Weights',\n",
              " 'Wide_ResNet50_2_Weights',\n",
              " '_GoogLeNetOutputs',\n",
              " '_InceptionOutputs',\n",
              " '__builtins__',\n",
              " '__cached__',\n",
              " '__doc__',\n",
              " '__file__',\n",
              " '__loader__',\n",
              " '__name__',\n",
              " '__package__',\n",
              " '__path__',\n",
              " '__spec__',\n",
              " '_api',\n",
              " '_meta',\n",
              " '_utils',\n",
              " 'alexnet',\n",
              " 'convnext',\n",
              " 'convnext_base',\n",
              " 'convnext_large',\n",
              " 'convnext_small',\n",
              " 'convnext_tiny',\n",
              " 'densenet',\n",
              " 'densenet121',\n",
              " 'densenet161',\n",
              " 'densenet169',\n",
              " 'densenet201',\n",
              " 'detection',\n",
              " 'efficientnet',\n",
              " 'efficientnet_b0',\n",
              " 'efficientnet_b1',\n",
              " 'efficientnet_b2',\n",
              " 'efficientnet_b3',\n",
              " 'efficientnet_b4',\n",
              " 'efficientnet_b5',\n",
              " 'efficientnet_b6',\n",
              " 'efficientnet_b7',\n",
              " 'efficientnet_v2_l',\n",
              " 'efficientnet_v2_m',\n",
              " 'efficientnet_v2_s',\n",
              " 'get_model',\n",
              " 'get_model_builder',\n",
              " 'get_model_weights',\n",
              " 'get_weight',\n",
              " 'googlenet',\n",
              " 'inception',\n",
              " 'inception_v3',\n",
              " 'list_models',\n",
              " 'maxvit',\n",
              " 'maxvit_t',\n",
              " 'mnasnet',\n",
              " 'mnasnet0_5',\n",
              " 'mnasnet0_75',\n",
              " 'mnasnet1_0',\n",
              " 'mnasnet1_3',\n",
              " 'mobilenet',\n",
              " 'mobilenet_v2',\n",
              " 'mobilenet_v3_large',\n",
              " 'mobilenet_v3_small',\n",
              " 'mobilenetv2',\n",
              " 'mobilenetv3',\n",
              " 'optical_flow',\n",
              " 'quantization',\n",
              " 'regnet',\n",
              " 'regnet_x_16gf',\n",
              " 'regnet_x_1_6gf',\n",
              " 'regnet_x_32gf',\n",
              " 'regnet_x_3_2gf',\n",
              " 'regnet_x_400mf',\n",
              " 'regnet_x_800mf',\n",
              " 'regnet_x_8gf',\n",
              " 'regnet_y_128gf',\n",
              " 'regnet_y_16gf',\n",
              " 'regnet_y_1_6gf',\n",
              " 'regnet_y_32gf',\n",
              " 'regnet_y_3_2gf',\n",
              " 'regnet_y_400mf',\n",
              " 'regnet_y_800mf',\n",
              " 'regnet_y_8gf',\n",
              " 'resnet',\n",
              " 'resnet101',\n",
              " 'resnet152',\n",
              " 'resnet18',\n",
              " 'resnet34',\n",
              " 'resnet50',\n",
              " 'resnext101_32x8d',\n",
              " 'resnext101_64x4d',\n",
              " 'resnext50_32x4d',\n",
              " 'segmentation',\n",
              " 'shufflenet_v2_x0_5',\n",
              " 'shufflenet_v2_x1_0',\n",
              " 'shufflenet_v2_x1_5',\n",
              " 'shufflenet_v2_x2_0',\n",
              " 'shufflenetv2',\n",
              " 'squeezenet',\n",
              " 'squeezenet1_0',\n",
              " 'squeezenet1_1',\n",
              " 'swin_b',\n",
              " 'swin_s',\n",
              " 'swin_t',\n",
              " 'swin_transformer',\n",
              " 'swin_v2_b',\n",
              " 'swin_v2_s',\n",
              " 'swin_v2_t',\n",
              " 'vgg',\n",
              " 'vgg11',\n",
              " 'vgg11_bn',\n",
              " 'vgg13',\n",
              " 'vgg13_bn',\n",
              " 'vgg16',\n",
              " 'vgg16_bn',\n",
              " 'vgg19',\n",
              " 'vgg19_bn',\n",
              " 'video',\n",
              " 'vision_transformer',\n",
              " 'vit_b_16',\n",
              " 'vit_b_32',\n",
              " 'vit_h_14',\n",
              " 'vit_l_16',\n",
              " 'vit_l_32',\n",
              " 'wide_resnet101_2',\n",
              " 'wide_resnet50_2']"
            ]
          },
          "metadata": {},
          "execution_count": 29
        }
      ]
    },
    {
      "cell_type": "markdown",
      "source": [
        "# Some Important functions\n"
      ],
      "metadata": {
        "id": "U9OyZ6A5-vZf"
      }
    },
    {
      "cell_type": "code",
      "source": [
        "import requests\n",
        "from pathlib import Path\n",
        "\n",
        "# Download helper functions\n",
        "if Path(\"helper_functions.py\").is_file():\n",
        "  print(\"helper_functions already exist\")\n",
        "else:\n",
        "  print(\"downloading helper_functions.py\")\n",
        "  request = requests.get(\"https://raw.githubusercontent.com/mrdbourke/pytorch-deep-learning/main/helper_functions.py\")\n",
        "  with open(\"helper_functions.py\" , \"wb\") as f :\n",
        "    f.write(request.content)"
      ],
      "metadata": {
        "id": "8pG_a6YR_fmw",
        "colab": {
          "base_uri": "https://localhost:8080/"
        },
        "outputId": "ee8e9c20-a083-4c60-b77a-b4cad09e3ef9"
      },
      "execution_count": 30,
      "outputs": [
        {
          "output_type": "stream",
          "name": "stdout",
          "text": [
            "helper_functions already exist\n"
          ]
        }
      ]
    },
    {
      "cell_type": "markdown",
      "source": [
        "## Creating a function to timeout our experiments"
      ],
      "metadata": {
        "id": "ZNGuw0XxAApg"
      }
    },
    {
      "cell_type": "code",
      "source": [
        "from timeit import default_timer as timer\n",
        "\n",
        "def print_train_time(start:float,\n",
        "                     end:float,\n",
        "                     device:torch.device = None):\n",
        "  \"\"\"print difference between start and end time \"\"\"\n",
        "  total_time = end-start\n",
        "  print(f\"Train time on {device} : {total_time:.3f} seconds\")\n",
        "  return total_time"
      ],
      "metadata": {
        "id": "V5zv0Crq_-ls"
      },
      "execution_count": 31,
      "outputs": []
    },
    {
      "cell_type": "markdown",
      "source": [
        "## Model Evaluation"
      ],
      "metadata": {
        "id": "MYf6UN8mA5w5"
      }
    },
    {
      "cell_type": "code",
      "source": [
        "torch.manual_seed(42)\n",
        "def eval_model(model:torch.nn.Module,\n",
        "               data_loader:torch.utils.data.DataLoader,\n",
        "               loss_fn : torch.nn.Module,\n",
        "               accuracy_fn,\n",
        "               device=device):\n",
        "  \"\"\" Returns a dictionary containing the results of model predicting data loader\"\"\"\n",
        "  loss , acc = 0,0\n",
        "  model.eval()\n",
        "  with torch.inference_mode():\n",
        "    for X,y in tqdm(data_loader):\n",
        "\n",
        "      # Make data device agnostic\n",
        "      X , y = X.to(device) , y.to(device)\n",
        "      # Make predictions\n",
        "      y_pred = model(X)\n",
        "\n",
        "      #Accumulate the loss and accuracy per batch\n",
        "      loss += loss_fn(y_pred,y)\n",
        "      acc+= accuracy_fn(y_true = y,\n",
        "                        y_pred = y_pred.argmax(dim=1))\n",
        "    # Scale the loss and acc to find the average loss/ acc per batch\n",
        "    loss/= len(data_loader)\n",
        "    acc/= len(data_loader)\n",
        "\n",
        "  return {\"model_name\" : model.__class__.__name__, # only works when model was created with a class\n",
        "          \"model_loss\" : loss.item(),\n",
        "          \"model_acc\" :acc}\n"
      ],
      "metadata": {
        "id": "0aqX7fOFIUQH"
      },
      "execution_count": 32,
      "outputs": []
    },
    {
      "cell_type": "markdown",
      "source": [
        "## Training Loop"
      ],
      "metadata": {
        "id": "WCNqzpZdBfbp"
      }
    },
    {
      "cell_type": "code",
      "source": [
        "def train_step(model:torch.nn.Module,\n",
        "               data_loader : torch.utils.data.DataLoader,\n",
        "               loss_fn: torch.nn.Module,\n",
        "               optimizer : torch.optim.Optimizer,\n",
        "               accuracy_fn,\n",
        "               device: torch.device = device):\n",
        "  \"\"\" performs a training with model trying to learn on data_loader.\"\"\"\n",
        "  train_loss,train_acc = 0,0\n",
        "  # Put model into training mode\n",
        "  model.train()\n",
        "\n",
        "  # Add a loop through the training batches\n",
        "  for batch ,(X,y) in enumerate(data_loader):\n",
        "    # put data on target device\n",
        "    X,y= X.to(device) , y.to(device)\n",
        "\n",
        "    #1. forward pass(outputs ths raw logits)\n",
        "    y_pred = model(X)\n",
        "\n",
        "    #2. calculate the loss (per batch)\n",
        "    loss = loss_fn(y_pred,y)\n",
        "    train_loss +=loss # accumulate train loss\n",
        "\n",
        "    #3. optimizer zero grad\n",
        "    optimizer.zero_grad()\n",
        "\n",
        "    #4. loss backward\n",
        "    loss.backward()\n",
        "\n",
        "    #5. optimzier step\n",
        "    optimizer.step()\n",
        "\n",
        "    train_acc += accuracy_fn(y_true = y,\n",
        "                             y_pred = y_pred.argmax(dim=1)) # go from raw logits -> prediction labels\n",
        "\n",
        "\n",
        "  # Device total train loss and acc by length of train dataloader\n",
        "  train_loss /= len(data_loader)\n",
        "  train_acc /= len(data_loader)\n",
        "  print(f\"Test loss : {train_loss:.5f} | Test Acc : {train_acc:.2f}% \")\n",
        "  return train_loss , train_acc\n"
      ],
      "metadata": {
        "id": "uzxTo1JABjO9"
      },
      "execution_count": 33,
      "outputs": []
    },
    {
      "cell_type": "markdown",
      "source": [
        "## Testing Loop"
      ],
      "metadata": {
        "id": "ZYOTT19rBynx"
      }
    },
    {
      "cell_type": "code",
      "source": [
        "def test_step(model:torch.nn.Module,\n",
        "              data_loader : torch.utils.data.DataLoader,\n",
        "              loss_fn : torch.nn.Module,\n",
        "              accuracy_fn,\n",
        "              device : torch.device = device):\n",
        "  \"\"\" performs a testing loop step on model going over data_loader\"\"\"\n",
        "  test_loss , test_acc=0,0\n",
        "\n",
        "  # Put the model in eval mode\n",
        "  model.eval()\n",
        "\n",
        "  # Turn on inference mode context manager\n",
        "  with torch.inference_mode():\n",
        "    for X,y in data_loader:\n",
        "      # send the data to the target device\n",
        "      X,y= X.to(device) , y.to(device)\n",
        "\n",
        "      #1. forward pass\n",
        "      test_pred = model(X)\n",
        "\n",
        "      #2. Calculate the loss / acc\n",
        "      test_loss += loss_fn(test_pred,y)\n",
        "      test_acc+= accuracy_fn(y_true = y,y_pred = test_pred.argmax(dim=1))\n",
        "\n",
        "    # Adjust metrics and print out\n",
        "    test_loss /= len(data_loader)\n",
        "    test_acc /= len(data_loader)\n",
        "    print(f\"Test loss : {test_loss:.5f} | Test Acc : {test_acc:.2f}% \")\n",
        "    return test_loss , test_acc"
      ],
      "metadata": {
        "id": "SvcKNcBbB2nk"
      },
      "execution_count": 34,
      "outputs": []
    },
    {
      "cell_type": "markdown",
      "source": [
        "#MODEL-1 -- EfficientNet"
      ],
      "metadata": {
        "id": "3gYKSl6Bprez"
      }
    },
    {
      "cell_type": "markdown",
      "source": [
        "## Loading EfficientNet model"
      ],
      "metadata": {
        "id": "TslF-eIN9idr"
      }
    },
    {
      "cell_type": "code",
      "source": [
        "#1 EfficientNet -- Loading Model\n",
        "efficientnet_model = EfficientNet.from_pretrained('efficientnet-b0')\n",
        "print(efficientnet_model)"
      ],
      "metadata": {
        "id": "7TQyZNU2pdLg",
        "colab": {
          "base_uri": "https://localhost:8080/"
        },
        "outputId": "65702d02-a171-49a3-f28c-60fca7064e84"
      },
      "execution_count": 35,
      "outputs": [
        {
          "output_type": "stream",
          "name": "stderr",
          "text": [
            "Downloading: \"https://github.com/lukemelas/EfficientNet-PyTorch/releases/download/1.0/efficientnet-b0-355c32eb.pth\" to /root/.cache/torch/hub/checkpoints/efficientnet-b0-355c32eb.pth\n",
            "100%|██████████| 20.4M/20.4M [00:00<00:00, 138MB/s] \n"
          ]
        },
        {
          "output_type": "stream",
          "name": "stdout",
          "text": [
            "Loaded pretrained weights for efficientnet-b0\n",
            "EfficientNet(\n",
            "  (_conv_stem): Conv2dStaticSamePadding(\n",
            "    3, 32, kernel_size=(3, 3), stride=(2, 2), bias=False\n",
            "    (static_padding): ZeroPad2d((0, 1, 0, 1))\n",
            "  )\n",
            "  (_bn0): BatchNorm2d(32, eps=0.001, momentum=0.010000000000000009, affine=True, track_running_stats=True)\n",
            "  (_blocks): ModuleList(\n",
            "    (0): MBConvBlock(\n",
            "      (_depthwise_conv): Conv2dStaticSamePadding(\n",
            "        32, 32, kernel_size=(3, 3), stride=[1, 1], groups=32, bias=False\n",
            "        (static_padding): ZeroPad2d((1, 1, 1, 1))\n",
            "      )\n",
            "      (_bn1): BatchNorm2d(32, eps=0.001, momentum=0.010000000000000009, affine=True, track_running_stats=True)\n",
            "      (_se_reduce): Conv2dStaticSamePadding(\n",
            "        32, 8, kernel_size=(1, 1), stride=(1, 1)\n",
            "        (static_padding): Identity()\n",
            "      )\n",
            "      (_se_expand): Conv2dStaticSamePadding(\n",
            "        8, 32, kernel_size=(1, 1), stride=(1, 1)\n",
            "        (static_padding): Identity()\n",
            "      )\n",
            "      (_project_conv): Conv2dStaticSamePadding(\n",
            "        32, 16, kernel_size=(1, 1), stride=(1, 1), bias=False\n",
            "        (static_padding): Identity()\n",
            "      )\n",
            "      (_bn2): BatchNorm2d(16, eps=0.001, momentum=0.010000000000000009, affine=True, track_running_stats=True)\n",
            "      (_swish): MemoryEfficientSwish()\n",
            "    )\n",
            "    (1): MBConvBlock(\n",
            "      (_expand_conv): Conv2dStaticSamePadding(\n",
            "        16, 96, kernel_size=(1, 1), stride=(1, 1), bias=False\n",
            "        (static_padding): Identity()\n",
            "      )\n",
            "      (_bn0): BatchNorm2d(96, eps=0.001, momentum=0.010000000000000009, affine=True, track_running_stats=True)\n",
            "      (_depthwise_conv): Conv2dStaticSamePadding(\n",
            "        96, 96, kernel_size=(3, 3), stride=[2, 2], groups=96, bias=False\n",
            "        (static_padding): ZeroPad2d((0, 1, 0, 1))\n",
            "      )\n",
            "      (_bn1): BatchNorm2d(96, eps=0.001, momentum=0.010000000000000009, affine=True, track_running_stats=True)\n",
            "      (_se_reduce): Conv2dStaticSamePadding(\n",
            "        96, 4, kernel_size=(1, 1), stride=(1, 1)\n",
            "        (static_padding): Identity()\n",
            "      )\n",
            "      (_se_expand): Conv2dStaticSamePadding(\n",
            "        4, 96, kernel_size=(1, 1), stride=(1, 1)\n",
            "        (static_padding): Identity()\n",
            "      )\n",
            "      (_project_conv): Conv2dStaticSamePadding(\n",
            "        96, 24, kernel_size=(1, 1), stride=(1, 1), bias=False\n",
            "        (static_padding): Identity()\n",
            "      )\n",
            "      (_bn2): BatchNorm2d(24, eps=0.001, momentum=0.010000000000000009, affine=True, track_running_stats=True)\n",
            "      (_swish): MemoryEfficientSwish()\n",
            "    )\n",
            "    (2): MBConvBlock(\n",
            "      (_expand_conv): Conv2dStaticSamePadding(\n",
            "        24, 144, kernel_size=(1, 1), stride=(1, 1), bias=False\n",
            "        (static_padding): Identity()\n",
            "      )\n",
            "      (_bn0): BatchNorm2d(144, eps=0.001, momentum=0.010000000000000009, affine=True, track_running_stats=True)\n",
            "      (_depthwise_conv): Conv2dStaticSamePadding(\n",
            "        144, 144, kernel_size=(3, 3), stride=(1, 1), groups=144, bias=False\n",
            "        (static_padding): ZeroPad2d((1, 1, 1, 1))\n",
            "      )\n",
            "      (_bn1): BatchNorm2d(144, eps=0.001, momentum=0.010000000000000009, affine=True, track_running_stats=True)\n",
            "      (_se_reduce): Conv2dStaticSamePadding(\n",
            "        144, 6, kernel_size=(1, 1), stride=(1, 1)\n",
            "        (static_padding): Identity()\n",
            "      )\n",
            "      (_se_expand): Conv2dStaticSamePadding(\n",
            "        6, 144, kernel_size=(1, 1), stride=(1, 1)\n",
            "        (static_padding): Identity()\n",
            "      )\n",
            "      (_project_conv): Conv2dStaticSamePadding(\n",
            "        144, 24, kernel_size=(1, 1), stride=(1, 1), bias=False\n",
            "        (static_padding): Identity()\n",
            "      )\n",
            "      (_bn2): BatchNorm2d(24, eps=0.001, momentum=0.010000000000000009, affine=True, track_running_stats=True)\n",
            "      (_swish): MemoryEfficientSwish()\n",
            "    )\n",
            "    (3): MBConvBlock(\n",
            "      (_expand_conv): Conv2dStaticSamePadding(\n",
            "        24, 144, kernel_size=(1, 1), stride=(1, 1), bias=False\n",
            "        (static_padding): Identity()\n",
            "      )\n",
            "      (_bn0): BatchNorm2d(144, eps=0.001, momentum=0.010000000000000009, affine=True, track_running_stats=True)\n",
            "      (_depthwise_conv): Conv2dStaticSamePadding(\n",
            "        144, 144, kernel_size=(5, 5), stride=[2, 2], groups=144, bias=False\n",
            "        (static_padding): ZeroPad2d((1, 2, 1, 2))\n",
            "      )\n",
            "      (_bn1): BatchNorm2d(144, eps=0.001, momentum=0.010000000000000009, affine=True, track_running_stats=True)\n",
            "      (_se_reduce): Conv2dStaticSamePadding(\n",
            "        144, 6, kernel_size=(1, 1), stride=(1, 1)\n",
            "        (static_padding): Identity()\n",
            "      )\n",
            "      (_se_expand): Conv2dStaticSamePadding(\n",
            "        6, 144, kernel_size=(1, 1), stride=(1, 1)\n",
            "        (static_padding): Identity()\n",
            "      )\n",
            "      (_project_conv): Conv2dStaticSamePadding(\n",
            "        144, 40, kernel_size=(1, 1), stride=(1, 1), bias=False\n",
            "        (static_padding): Identity()\n",
            "      )\n",
            "      (_bn2): BatchNorm2d(40, eps=0.001, momentum=0.010000000000000009, affine=True, track_running_stats=True)\n",
            "      (_swish): MemoryEfficientSwish()\n",
            "    )\n",
            "    (4): MBConvBlock(\n",
            "      (_expand_conv): Conv2dStaticSamePadding(\n",
            "        40, 240, kernel_size=(1, 1), stride=(1, 1), bias=False\n",
            "        (static_padding): Identity()\n",
            "      )\n",
            "      (_bn0): BatchNorm2d(240, eps=0.001, momentum=0.010000000000000009, affine=True, track_running_stats=True)\n",
            "      (_depthwise_conv): Conv2dStaticSamePadding(\n",
            "        240, 240, kernel_size=(5, 5), stride=(1, 1), groups=240, bias=False\n",
            "        (static_padding): ZeroPad2d((2, 2, 2, 2))\n",
            "      )\n",
            "      (_bn1): BatchNorm2d(240, eps=0.001, momentum=0.010000000000000009, affine=True, track_running_stats=True)\n",
            "      (_se_reduce): Conv2dStaticSamePadding(\n",
            "        240, 10, kernel_size=(1, 1), stride=(1, 1)\n",
            "        (static_padding): Identity()\n",
            "      )\n",
            "      (_se_expand): Conv2dStaticSamePadding(\n",
            "        10, 240, kernel_size=(1, 1), stride=(1, 1)\n",
            "        (static_padding): Identity()\n",
            "      )\n",
            "      (_project_conv): Conv2dStaticSamePadding(\n",
            "        240, 40, kernel_size=(1, 1), stride=(1, 1), bias=False\n",
            "        (static_padding): Identity()\n",
            "      )\n",
            "      (_bn2): BatchNorm2d(40, eps=0.001, momentum=0.010000000000000009, affine=True, track_running_stats=True)\n",
            "      (_swish): MemoryEfficientSwish()\n",
            "    )\n",
            "    (5): MBConvBlock(\n",
            "      (_expand_conv): Conv2dStaticSamePadding(\n",
            "        40, 240, kernel_size=(1, 1), stride=(1, 1), bias=False\n",
            "        (static_padding): Identity()\n",
            "      )\n",
            "      (_bn0): BatchNorm2d(240, eps=0.001, momentum=0.010000000000000009, affine=True, track_running_stats=True)\n",
            "      (_depthwise_conv): Conv2dStaticSamePadding(\n",
            "        240, 240, kernel_size=(3, 3), stride=[2, 2], groups=240, bias=False\n",
            "        (static_padding): ZeroPad2d((0, 1, 0, 1))\n",
            "      )\n",
            "      (_bn1): BatchNorm2d(240, eps=0.001, momentum=0.010000000000000009, affine=True, track_running_stats=True)\n",
            "      (_se_reduce): Conv2dStaticSamePadding(\n",
            "        240, 10, kernel_size=(1, 1), stride=(1, 1)\n",
            "        (static_padding): Identity()\n",
            "      )\n",
            "      (_se_expand): Conv2dStaticSamePadding(\n",
            "        10, 240, kernel_size=(1, 1), stride=(1, 1)\n",
            "        (static_padding): Identity()\n",
            "      )\n",
            "      (_project_conv): Conv2dStaticSamePadding(\n",
            "        240, 80, kernel_size=(1, 1), stride=(1, 1), bias=False\n",
            "        (static_padding): Identity()\n",
            "      )\n",
            "      (_bn2): BatchNorm2d(80, eps=0.001, momentum=0.010000000000000009, affine=True, track_running_stats=True)\n",
            "      (_swish): MemoryEfficientSwish()\n",
            "    )\n",
            "    (6-7): 2 x MBConvBlock(\n",
            "      (_expand_conv): Conv2dStaticSamePadding(\n",
            "        80, 480, kernel_size=(1, 1), stride=(1, 1), bias=False\n",
            "        (static_padding): Identity()\n",
            "      )\n",
            "      (_bn0): BatchNorm2d(480, eps=0.001, momentum=0.010000000000000009, affine=True, track_running_stats=True)\n",
            "      (_depthwise_conv): Conv2dStaticSamePadding(\n",
            "        480, 480, kernel_size=(3, 3), stride=(1, 1), groups=480, bias=False\n",
            "        (static_padding): ZeroPad2d((1, 1, 1, 1))\n",
            "      )\n",
            "      (_bn1): BatchNorm2d(480, eps=0.001, momentum=0.010000000000000009, affine=True, track_running_stats=True)\n",
            "      (_se_reduce): Conv2dStaticSamePadding(\n",
            "        480, 20, kernel_size=(1, 1), stride=(1, 1)\n",
            "        (static_padding): Identity()\n",
            "      )\n",
            "      (_se_expand): Conv2dStaticSamePadding(\n",
            "        20, 480, kernel_size=(1, 1), stride=(1, 1)\n",
            "        (static_padding): Identity()\n",
            "      )\n",
            "      (_project_conv): Conv2dStaticSamePadding(\n",
            "        480, 80, kernel_size=(1, 1), stride=(1, 1), bias=False\n",
            "        (static_padding): Identity()\n",
            "      )\n",
            "      (_bn2): BatchNorm2d(80, eps=0.001, momentum=0.010000000000000009, affine=True, track_running_stats=True)\n",
            "      (_swish): MemoryEfficientSwish()\n",
            "    )\n",
            "    (8): MBConvBlock(\n",
            "      (_expand_conv): Conv2dStaticSamePadding(\n",
            "        80, 480, kernel_size=(1, 1), stride=(1, 1), bias=False\n",
            "        (static_padding): Identity()\n",
            "      )\n",
            "      (_bn0): BatchNorm2d(480, eps=0.001, momentum=0.010000000000000009, affine=True, track_running_stats=True)\n",
            "      (_depthwise_conv): Conv2dStaticSamePadding(\n",
            "        480, 480, kernel_size=(5, 5), stride=[1, 1], groups=480, bias=False\n",
            "        (static_padding): ZeroPad2d((2, 2, 2, 2))\n",
            "      )\n",
            "      (_bn1): BatchNorm2d(480, eps=0.001, momentum=0.010000000000000009, affine=True, track_running_stats=True)\n",
            "      (_se_reduce): Conv2dStaticSamePadding(\n",
            "        480, 20, kernel_size=(1, 1), stride=(1, 1)\n",
            "        (static_padding): Identity()\n",
            "      )\n",
            "      (_se_expand): Conv2dStaticSamePadding(\n",
            "        20, 480, kernel_size=(1, 1), stride=(1, 1)\n",
            "        (static_padding): Identity()\n",
            "      )\n",
            "      (_project_conv): Conv2dStaticSamePadding(\n",
            "        480, 112, kernel_size=(1, 1), stride=(1, 1), bias=False\n",
            "        (static_padding): Identity()\n",
            "      )\n",
            "      (_bn2): BatchNorm2d(112, eps=0.001, momentum=0.010000000000000009, affine=True, track_running_stats=True)\n",
            "      (_swish): MemoryEfficientSwish()\n",
            "    )\n",
            "    (9-10): 2 x MBConvBlock(\n",
            "      (_expand_conv): Conv2dStaticSamePadding(\n",
            "        112, 672, kernel_size=(1, 1), stride=(1, 1), bias=False\n",
            "        (static_padding): Identity()\n",
            "      )\n",
            "      (_bn0): BatchNorm2d(672, eps=0.001, momentum=0.010000000000000009, affine=True, track_running_stats=True)\n",
            "      (_depthwise_conv): Conv2dStaticSamePadding(\n",
            "        672, 672, kernel_size=(5, 5), stride=(1, 1), groups=672, bias=False\n",
            "        (static_padding): ZeroPad2d((2, 2, 2, 2))\n",
            "      )\n",
            "      (_bn1): BatchNorm2d(672, eps=0.001, momentum=0.010000000000000009, affine=True, track_running_stats=True)\n",
            "      (_se_reduce): Conv2dStaticSamePadding(\n",
            "        672, 28, kernel_size=(1, 1), stride=(1, 1)\n",
            "        (static_padding): Identity()\n",
            "      )\n",
            "      (_se_expand): Conv2dStaticSamePadding(\n",
            "        28, 672, kernel_size=(1, 1), stride=(1, 1)\n",
            "        (static_padding): Identity()\n",
            "      )\n",
            "      (_project_conv): Conv2dStaticSamePadding(\n",
            "        672, 112, kernel_size=(1, 1), stride=(1, 1), bias=False\n",
            "        (static_padding): Identity()\n",
            "      )\n",
            "      (_bn2): BatchNorm2d(112, eps=0.001, momentum=0.010000000000000009, affine=True, track_running_stats=True)\n",
            "      (_swish): MemoryEfficientSwish()\n",
            "    )\n",
            "    (11): MBConvBlock(\n",
            "      (_expand_conv): Conv2dStaticSamePadding(\n",
            "        112, 672, kernel_size=(1, 1), stride=(1, 1), bias=False\n",
            "        (static_padding): Identity()\n",
            "      )\n",
            "      (_bn0): BatchNorm2d(672, eps=0.001, momentum=0.010000000000000009, affine=True, track_running_stats=True)\n",
            "      (_depthwise_conv): Conv2dStaticSamePadding(\n",
            "        672, 672, kernel_size=(5, 5), stride=[2, 2], groups=672, bias=False\n",
            "        (static_padding): ZeroPad2d((1, 2, 1, 2))\n",
            "      )\n",
            "      (_bn1): BatchNorm2d(672, eps=0.001, momentum=0.010000000000000009, affine=True, track_running_stats=True)\n",
            "      (_se_reduce): Conv2dStaticSamePadding(\n",
            "        672, 28, kernel_size=(1, 1), stride=(1, 1)\n",
            "        (static_padding): Identity()\n",
            "      )\n",
            "      (_se_expand): Conv2dStaticSamePadding(\n",
            "        28, 672, kernel_size=(1, 1), stride=(1, 1)\n",
            "        (static_padding): Identity()\n",
            "      )\n",
            "      (_project_conv): Conv2dStaticSamePadding(\n",
            "        672, 192, kernel_size=(1, 1), stride=(1, 1), bias=False\n",
            "        (static_padding): Identity()\n",
            "      )\n",
            "      (_bn2): BatchNorm2d(192, eps=0.001, momentum=0.010000000000000009, affine=True, track_running_stats=True)\n",
            "      (_swish): MemoryEfficientSwish()\n",
            "    )\n",
            "    (12-14): 3 x MBConvBlock(\n",
            "      (_expand_conv): Conv2dStaticSamePadding(\n",
            "        192, 1152, kernel_size=(1, 1), stride=(1, 1), bias=False\n",
            "        (static_padding): Identity()\n",
            "      )\n",
            "      (_bn0): BatchNorm2d(1152, eps=0.001, momentum=0.010000000000000009, affine=True, track_running_stats=True)\n",
            "      (_depthwise_conv): Conv2dStaticSamePadding(\n",
            "        1152, 1152, kernel_size=(5, 5), stride=(1, 1), groups=1152, bias=False\n",
            "        (static_padding): ZeroPad2d((2, 2, 2, 2))\n",
            "      )\n",
            "      (_bn1): BatchNorm2d(1152, eps=0.001, momentum=0.010000000000000009, affine=True, track_running_stats=True)\n",
            "      (_se_reduce): Conv2dStaticSamePadding(\n",
            "        1152, 48, kernel_size=(1, 1), stride=(1, 1)\n",
            "        (static_padding): Identity()\n",
            "      )\n",
            "      (_se_expand): Conv2dStaticSamePadding(\n",
            "        48, 1152, kernel_size=(1, 1), stride=(1, 1)\n",
            "        (static_padding): Identity()\n",
            "      )\n",
            "      (_project_conv): Conv2dStaticSamePadding(\n",
            "        1152, 192, kernel_size=(1, 1), stride=(1, 1), bias=False\n",
            "        (static_padding): Identity()\n",
            "      )\n",
            "      (_bn2): BatchNorm2d(192, eps=0.001, momentum=0.010000000000000009, affine=True, track_running_stats=True)\n",
            "      (_swish): MemoryEfficientSwish()\n",
            "    )\n",
            "    (15): MBConvBlock(\n",
            "      (_expand_conv): Conv2dStaticSamePadding(\n",
            "        192, 1152, kernel_size=(1, 1), stride=(1, 1), bias=False\n",
            "        (static_padding): Identity()\n",
            "      )\n",
            "      (_bn0): BatchNorm2d(1152, eps=0.001, momentum=0.010000000000000009, affine=True, track_running_stats=True)\n",
            "      (_depthwise_conv): Conv2dStaticSamePadding(\n",
            "        1152, 1152, kernel_size=(3, 3), stride=[1, 1], groups=1152, bias=False\n",
            "        (static_padding): ZeroPad2d((1, 1, 1, 1))\n",
            "      )\n",
            "      (_bn1): BatchNorm2d(1152, eps=0.001, momentum=0.010000000000000009, affine=True, track_running_stats=True)\n",
            "      (_se_reduce): Conv2dStaticSamePadding(\n",
            "        1152, 48, kernel_size=(1, 1), stride=(1, 1)\n",
            "        (static_padding): Identity()\n",
            "      )\n",
            "      (_se_expand): Conv2dStaticSamePadding(\n",
            "        48, 1152, kernel_size=(1, 1), stride=(1, 1)\n",
            "        (static_padding): Identity()\n",
            "      )\n",
            "      (_project_conv): Conv2dStaticSamePadding(\n",
            "        1152, 320, kernel_size=(1, 1), stride=(1, 1), bias=False\n",
            "        (static_padding): Identity()\n",
            "      )\n",
            "      (_bn2): BatchNorm2d(320, eps=0.001, momentum=0.010000000000000009, affine=True, track_running_stats=True)\n",
            "      (_swish): MemoryEfficientSwish()\n",
            "    )\n",
            "  )\n",
            "  (_conv_head): Conv2dStaticSamePadding(\n",
            "    320, 1280, kernel_size=(1, 1), stride=(1, 1), bias=False\n",
            "    (static_padding): Identity()\n",
            "  )\n",
            "  (_bn1): BatchNorm2d(1280, eps=0.001, momentum=0.010000000000000009, affine=True, track_running_stats=True)\n",
            "  (_avg_pooling): AdaptiveAvgPool2d(output_size=1)\n",
            "  (_dropout): Dropout(p=0.2, inplace=False)\n",
            "  (_fc): Linear(in_features=1280, out_features=1000, bias=True)\n",
            "  (_swish): MemoryEfficientSwish()\n",
            ")\n"
          ]
        }
      ]
    },
    {
      "cell_type": "markdown",
      "source": [
        "## Getting Loss function and optimizer and accuracy metrics"
      ],
      "metadata": {
        "id": "IQqwypfe_VKQ"
      }
    },
    {
      "cell_type": "code",
      "source": [
        "\n",
        "# Import accuracy metric\n",
        "from helper_functions import accuracy_fn\n",
        "\n",
        "# Setup loss function and optimizer\n",
        "loss_fn = nn.CrossEntropyLoss()\n",
        "optimizer = torch.optim.Adam(params = efficientnet_model.parameters(),\n",
        "                            lr = 0.001)"
      ],
      "metadata": {
        "id": "EUfaFC4D_bx5"
      },
      "execution_count": 36,
      "outputs": []
    },
    {
      "cell_type": "markdown",
      "source": [
        "## Training on Model\n",
        "\n"
      ],
      "metadata": {
        "id": "PXO5y1P3JDYO"
      }
    },
    {
      "cell_type": "code",
      "source": [
        "# Modify the model's final layers\n",
        "num_classes = len(class_names)\n",
        "efficientnet_model._fc = nn.Linear(efficientnet_model._fc.in_features, num_classes)  # Modify the last fully connected layer\n",
        "\n",
        "torch.manual_seed(100)\n",
        "\n",
        "# measure time\n",
        "from timeit import default_timer as timer\n",
        "train_time_start1 = timer()\n",
        "\n",
        "# setting model to device\n",
        "efficientnet_model.to(device)\n",
        "\n",
        "# Set epochs\n",
        "epochs = 12\n",
        "\n",
        "results_efficientnet = {\"train_loss\":[],\n",
        "           \"train_acc\":[],\n",
        "           \"test_loss\":[],\n",
        "           \"test_acc\":[]}\n",
        "\n",
        "# Create a optimization and evaluation loop using train_step() and test_step()\n",
        "for epoch in tqdm(range(epochs)):\n",
        "  print(f\"Epoch : {epoch}\\n----------\")\n",
        "  train_loss , train_acc = train_step(model = efficientnet_model,\n",
        "             data_loader = train_dataloader,\n",
        "             loss_fn = loss_fn,\n",
        "             optimizer = optimizer,\n",
        "             accuracy_fn = accuracy_fn,\n",
        "             device = device)\n",
        "  test_loss , test_acc = test_step(model=efficientnet_model,\n",
        "            data_loader=test_dataloader,\n",
        "            loss_fn = loss_fn,\n",
        "            accuracy_fn=accuracy_fn,\n",
        "            device = device)\n",
        "  # update result dictionary\n",
        "  results_efficientnet[\"train_loss\"].append(train_loss)\n",
        "  results_efficientnet[\"train_acc\"].append(train_acc)\n",
        "  results_efficientnet[\"test_loss\"].append(test_loss)\n",
        "  results_efficientnet[\"test_acc\"].append(test_acc)\n",
        "\n",
        "train_time_end1 = timer()\n",
        "total_train_time_model_1 = print_train_time(start = train_time_start1,\n",
        "                                              end = train_time_end1,\n",
        "                                              device = device)"
      ],
      "metadata": {
        "id": "NMGtI4_CCuiK",
        "colab": {
          "base_uri": "https://localhost:8080/",
          "height": 84,
          "referenced_widgets": [
            "f25d7c010d0043f2bc3c825024a73f4e",
            "7bcdda7372cf464894731bf7aca32c1a",
            "6d6ae888d0584b52a8db40a1fd9d2f88",
            "6960464a4bd643659341632ab5b57dd0",
            "9ee98bf29b704c6fa6f0c7ca0d83db96",
            "bf89b9435a6b4d019d4cb427f5dd27bb",
            "74412e976be3448398e79c9b5b54d054",
            "075fa821e45b4dcf8dba012a7ffecf40",
            "5deead99c56c4809a7e3c6c5e0f97ffd",
            "3e9eba2e060542cfb2eab63d7124bad5",
            "a88948338f7449ef93ac1e235abd482c"
          ]
        },
        "outputId": "95e8341f-f6de-4ce1-b98a-78488395a593"
      },
      "execution_count": null,
      "outputs": [
        {
          "output_type": "display_data",
          "data": {
            "text/plain": [
              "  0%|          | 0/12 [00:00<?, ?it/s]"
            ],
            "application/vnd.jupyter.widget-view+json": {
              "version_major": 2,
              "version_minor": 0,
              "model_id": "f25d7c010d0043f2bc3c825024a73f4e"
            }
          },
          "metadata": {}
        },
        {
          "output_type": "stream",
          "name": "stdout",
          "text": [
            "Epoch : 0\n",
            "----------\n"
          ]
        }
      ]
    },
    {
      "cell_type": "code",
      "source": [
        "# Get model_1_results\n",
        "model_1_results = eval_model(model=efficientnet_model,\n",
        "                             data_loader = test_dataloader,\n",
        "                             loss_fn = loss_fn,\n",
        "                             accuracy_fn = accuracy_fn,\n",
        "                             device=device)\n",
        "model_1_results"
      ],
      "metadata": {
        "id": "ZnM2ICjhFpUD"
      },
      "execution_count": null,
      "outputs": []
    },
    {
      "cell_type": "markdown",
      "source": [
        "## Saving Model"
      ],
      "metadata": {
        "id": "wSI6SWVDBh-O"
      }
    },
    {
      "cell_type": "code",
      "source": [
        "from pathlib import Path\n",
        "\n",
        "# create model directory path\n",
        "MODEL_PATH = Path(\"Emotion_Analysis_Model\")\n",
        "MODEL_PATH.mkdir(parents = True ,\n",
        "                 exist_ok = True)\n",
        "\n",
        "# Create a save model\n",
        "MODEL_NAME = \"efficientnet_model.pth\"\n",
        "MODEL_SAVE_PATH = MODEL_PATH / MODEL_NAME\n",
        "\n",
        "# save model state dict\n",
        "print(f\"Saving model to : {MODEL_SAVE_PATH}\")\n",
        "torch.save(obj = efficientnet_model.state_dict(),\n",
        "           f = MODEL_SAVE_PATH)"
      ],
      "metadata": {
        "id": "gsDkLel5BobH"
      },
      "execution_count": null,
      "outputs": []
    },
    {
      "cell_type": "markdown",
      "source": [
        "#MODEL-2 -- VGG16\n"
      ],
      "metadata": {
        "id": "djxFndR7psUm"
      }
    },
    {
      "cell_type": "markdown",
      "source": [
        "## Loading VGG16 model"
      ],
      "metadata": {
        "id": "ZmK9mjW8MeOe"
      }
    },
    {
      "cell_type": "code",
      "source": [
        "# VGG16 -- Loading Model\n",
        "vgg16_model = models.vgg16(pretrained=True)\n",
        "print(vgg16_model)"
      ],
      "metadata": {
        "id": "RDmL_axQ6Z4a"
      },
      "execution_count": null,
      "outputs": []
    },
    {
      "cell_type": "markdown",
      "source": [
        "## Getting Loss function and optimizer and accuracy metrics"
      ],
      "metadata": {
        "id": "C8tMruiCMKs9"
      }
    },
    {
      "cell_type": "code",
      "source": [
        "# Import accuracy metric\n",
        "from helper_functions import accuracy_fn\n",
        "\n",
        "# Setup loss function and optimizer\n",
        "loss_fn = nn.CrossEntropyLoss()\n",
        "optimizer = torch.optim.Adam(params = vgg16_model.parameters(),\n",
        "                            lr = 0.001)"
      ],
      "metadata": {
        "id": "aKOImvClJOgJ"
      },
      "execution_count": null,
      "outputs": []
    },
    {
      "cell_type": "markdown",
      "source": [
        "## Training on Model"
      ],
      "metadata": {
        "id": "c9gfMc-7JIk-"
      }
    },
    {
      "cell_type": "code",
      "source": [
        "# Modify the model's final layers\n",
        "num_classes = len(class_names)\n",
        "vgg16_model.classifier[6] = nn.Linear(4096, num_classes)  # Modify the last fully connected layer\n",
        "\n",
        "torch.manual_seed(100)\n",
        "\n",
        "# measure time\n",
        "from timeit import default_timer as timer\n",
        "train_time_start2 = timer()\n",
        "\n",
        "# setting model to device\n",
        "vgg16_model.to(device)\n",
        "\n",
        "epochs = 12\n",
        "\n",
        "results_vgg16 = {\"train_loss\":[],\n",
        "           \"train_acc\":[],\n",
        "           \"test_loss\":[],\n",
        "           \"test_acc\":[]}\n",
        "\n",
        "# Create a optimization and evaluation loop using train_step() and test_step()\n",
        "for epoch in tqdm(range(epochs)):\n",
        "  print(f\"Epoch : {epoch}\\n---------- \")\n",
        "  train_loss , train_acc = train_step(model = vgg16_model,\n",
        "             data_loader = train_dataloader,\n",
        "             loss_fn = loss_fn,\n",
        "             optimizer = optimizer,\n",
        "             accuracy_fn = accuracy_fn,\n",
        "             device = device)\n",
        "  test_loss , test_acc = test_step(model=vgg16_model,\n",
        "            data_loader=test_dataloader,\n",
        "            loss_fn = loss_fn,\n",
        "            accuracy_fn=accuracy_fn,\n",
        "            device = device)\n",
        "  results_vgg16[\"train_loss\"].append(train_loss)\n",
        "  results_vgg16[\"train_acc\"].append(train_acc)\n",
        "  results_vgg16[\"test_loss\"].append(test_loss)\n",
        "  results_vgg16[\"test_acc\"].append(test_acc)\n",
        "train_time_end2 = timer()\n",
        "total_train_time_model_2 = print_train_time(start = train_time_start2,\n",
        "                                              end = train_time_end2,\n",
        "                                              device = device)"
      ],
      "metadata": {
        "id": "veqcVh3WDA6K"
      },
      "execution_count": null,
      "outputs": []
    },
    {
      "cell_type": "code",
      "source": [
        "# Get model_2_results\n",
        "model_2_results = eval_model(model=vgg16_model,\n",
        "                             data_loader = test_dataloader,\n",
        "                             loss_fn = loss_fn,\n",
        "                             accuracy_fn = accuracy_fn,\n",
        "                             device=device)\n",
        "model_2_results"
      ],
      "metadata": {
        "id": "N44BDPbYJw46"
      },
      "execution_count": null,
      "outputs": []
    },
    {
      "cell_type": "markdown",
      "source": [
        "## Saving model"
      ],
      "metadata": {
        "id": "MIb7Kc1uC6st"
      }
    },
    {
      "cell_type": "code",
      "source": [
        "from pathlib import Path\n",
        "\n",
        "# create model directory path\n",
        "MODEL_PATH = Path(\"Emotion_Analysis_Model\")\n",
        "MODEL_PATH.mkdir(parents = True ,\n",
        "                 exist_ok = True)\n",
        "\n",
        "# Create a save model\n",
        "MODEL_NAME = \"VGG16.pth\"\n",
        "MODEL_SAVE_PATH = MODEL_PATH / MODEL_NAME\n",
        "\n",
        "# save model state dict\n",
        "print(f\"Saving model to : {MODEL_SAVE_PATH}\")\n",
        "torch.save(obj = vgg16_model.state_dict(),\n",
        "           f = MODEL_SAVE_PATH)"
      ],
      "metadata": {
        "id": "XQqaXtsxC6Eq"
      },
      "execution_count": null,
      "outputs": []
    },
    {
      "cell_type": "markdown",
      "source": [
        "#MODEL-3 -- ResNet50"
      ],
      "metadata": {
        "id": "F7R-m17-pthc"
      }
    },
    {
      "cell_type": "markdown",
      "source": [
        "## Loading ResNet50 model"
      ],
      "metadata": {
        "id": "BxjiOiktMihX"
      }
    },
    {
      "cell_type": "code",
      "source": [
        "# Resnet50 -- Loading Model\n",
        "resnet50_model = models.resnet50(pretrained=True)\n",
        "print(resnet50_model)"
      ],
      "metadata": {
        "id": "PancILGQpt-O"
      },
      "execution_count": null,
      "outputs": []
    },
    {
      "cell_type": "markdown",
      "source": [
        "## Getting Loss function and optimizer and accuracy metrics"
      ],
      "metadata": {
        "id": "ntCrvNzEMNmu"
      }
    },
    {
      "cell_type": "code",
      "source": [
        "# Import accuracy metric\n",
        "from helper_functions import accuracy_fn\n",
        "\n",
        "# Setup loss function and optimizer\n",
        "loss_fn = nn.CrossEntropyLoss()\n",
        "optimizer = torch.optim.Adam(params = resnet50_model.parameters(),\n",
        "                            lr = 0.001)"
      ],
      "metadata": {
        "id": "sJhGBejNLdyL"
      },
      "execution_count": null,
      "outputs": []
    },
    {
      "cell_type": "markdown",
      "source": [
        "## Training on Model"
      ],
      "metadata": {
        "id": "BgKIswhOJQYg"
      }
    },
    {
      "cell_type": "code",
      "source": [
        "# Modify the model's final layers\n",
        "num_classes = len(class_names)\n",
        "resnet50_model.fc = nn.Linear(resnet50_model.fc.in_features, num_classes)  # Modify the last fully connected layer\n",
        "\n",
        "torch.manual_seed(100)\n",
        "\n",
        "# measure time\n",
        "from timeit import default_timer as timer\n",
        "train_time_start3 = timer()\n",
        "\n",
        "# Training loop\n",
        "resnet50_model.to(device)\n",
        "\n",
        "# Setting epochs\n",
        "epochs = 12\n",
        "\n",
        "results_resnet50 = {\"train_loss\":[],\n",
        "           \"train_acc\":[],\n",
        "           \"test_loss\":[],\n",
        "           \"test_acc\":[]}\n",
        "\n",
        "# Create a optimization and evaluation loop using train_step() and test_step()\n",
        "for epoch in tqdm(range(epochs)):\n",
        "  print(f\"Epoch : {epoch}\\n----------\")\n",
        "  train_loss , train_acc = train_step(model = resnet50_model,\n",
        "             data_loader = train_dataloader,\n",
        "             loss_fn = loss_fn,\n",
        "             optimizer = optimizer,\n",
        "             accuracy_fn = accuracy_fn,\n",
        "             device = device)\n",
        "  test_loss , test_acc = test_step(model=resnet50_model,\n",
        "            data_loader=test_dataloader,\n",
        "            loss_fn = loss_fn,\n",
        "            accuracy_fn=accuracy_fn,\n",
        "            device = device)\n",
        "  results_resnet50[\"train_loss\"].append(train_loss)\n",
        "  results_resnet50[\"train_acc\"].append(train_acc)\n",
        "  results_resnet50[\"test_loss\"].append(test_loss)\n",
        "  results_resnet50[\"test_acc\"].append(test_acc)\n",
        "train_time_end3 = timer()\n",
        "total_train_time_model_3 = print_train_time(start = train_time_start3,\n",
        "                                              end = train_time_end3,\n",
        "                                              device = device)"
      ],
      "metadata": {
        "id": "WaXANvCmjPE4"
      },
      "execution_count": null,
      "outputs": []
    },
    {
      "cell_type": "code",
      "source": [
        "# Get model_3_results\n",
        "model_3_results = eval_model(model=resnet50_model,\n",
        "                             data_loader = test_dataloader,\n",
        "                             loss_fn = loss_fn,\n",
        "                             accuracy_fn = accuracy_fn,\n",
        "                             device=device)\n",
        "model_3_results"
      ],
      "metadata": {
        "id": "xn8mT9gtMSh_"
      },
      "execution_count": null,
      "outputs": []
    },
    {
      "cell_type": "markdown",
      "source": [
        "## Saving Model"
      ],
      "metadata": {
        "id": "RfK4kIJDDSMd"
      }
    },
    {
      "cell_type": "code",
      "source": [
        "from pathlib import Path\n",
        "\n",
        "# create model directory path\n",
        "MODEL_PATH = Path(\"Emotion_Analysis_Model\")\n",
        "MODEL_PATH.mkdir(parents = True ,\n",
        "                 exist_ok = True)\n",
        "\n",
        "# Create a save model\n",
        "MODEL_NAME = \"ResNet50.pth\"\n",
        "MODEL_SAVE_PATH = MODEL_PATH / MODEL_NAME\n",
        "\n",
        "# save model state dict\n",
        "print(f\"Saving model to : {MODEL_SAVE_PATH}\")\n",
        "torch.save(obj = resnet50_model.state_dict(),\n",
        "           f = MODEL_SAVE_PATH)"
      ],
      "metadata": {
        "id": "oALPsnkPDUlW"
      },
      "execution_count": null,
      "outputs": []
    },
    {
      "cell_type": "markdown",
      "source": [
        "# Comparsion between all 3 models"
      ],
      "metadata": {
        "id": "O9wM9U0ONqJP"
      }
    },
    {
      "cell_type": "code",
      "source": [
        "import pandas as pd\n",
        "compare_results = pd.DataFrame([model_1_results,\n",
        "                               model_2_results,\n",
        "                               model_3_results])\n",
        "compare_results"
      ],
      "metadata": {
        "id": "C4bFKroDNsT6"
      },
      "execution_count": null,
      "outputs": []
    },
    {
      "cell_type": "code",
      "source": [
        "# Adding training time to results comparison\n",
        "compare_results[\"training_time\"] = ([total_train_time_model_1,\n",
        "                                    total_train_time_model_2,\n",
        "                                    total_train_time_model_3])\n",
        "compare_results"
      ],
      "metadata": {
        "id": "okooxBctN7h2"
      },
      "execution_count": null,
      "outputs": []
    },
    {
      "cell_type": "code",
      "source": [
        "import matplotlib.pyplot as plt\n",
        "import seaborn as sns\n",
        "\n",
        "# Define a color palette using Seaborn\n",
        "palette = sns.color_palette(\"husl\", len(compare_results))\n",
        "\n",
        "# Assuming you have a DataFrame called compare_results\n",
        "compare_results.set_index(\"model_name\")[\"model_acc\"].plot(kind=\"barh\", color=palette)\n",
        "\n",
        "plt.xlabel(\"Accuracy (%)\")\n",
        "plt.ylabel(\"Model\")\n",
        "plt.title(\"Model Accuracy\")\n",
        "plt.show()\n"
      ],
      "metadata": {
        "id": "bWdxTC3OOKXn"
      },
      "execution_count": null,
      "outputs": []
    },
    {
      "cell_type": "markdown",
      "source": [
        "# CONFUSION MATRIX"
      ],
      "metadata": {
        "id": "d7ooflAUba1c"
      }
    },
    {
      "cell_type": "markdown",
      "source": [
        "## Importing `torchmetrics` and `mlxtend`"
      ],
      "metadata": {
        "id": "KbGbnoI8hZzO"
      }
    },
    {
      "cell_type": "code",
      "source": [
        "# see if required packages are installed and ifnot , install them ..\n",
        "try:\n",
        "  import torchmetrics , mlxtend\n",
        "  print(f\",mlxtend version : {mlxtend.__version__}\")\n",
        "  assert int(mlxtend.__version__.split(\".\")[1]>=19, \"mlxtend version should be 0.19.0 or higher\")\n",
        "except:\n",
        "  !pip install torchmetrics -U mlxtend\n",
        "  print(f\"mlxtend version : {mlxtend.__version__}\")"
      ],
      "metadata": {
        "id": "3pyaW1tgaaiy"
      },
      "execution_count": null,
      "outputs": []
    },
    {
      "cell_type": "code",
      "source": [
        "import mlxtend\n",
        "print(mlxtend.__version__)"
      ],
      "metadata": {
        "id": "qiQcgoeZbsKX"
      },
      "execution_count": null,
      "outputs": []
    },
    {
      "cell_type": "markdown",
      "source": [
        "### Labels"
      ],
      "metadata": {
        "id": "619s-zDUh-8H"
      }
    },
    {
      "cell_type": "code",
      "source": [
        "import torch\n",
        "\n",
        "# Initialize an empty list to store the target labels\n",
        "test_labels = []\n",
        "\n",
        "# Loop through the test DataLoader to get labels\n",
        "for images, labels in test_dataloader:\n",
        "    test_labels.extend(labels.tolist())  # Assuming labels are in tensor format\n",
        "\n",
        "# Convert the list of labels into a PyTorch tensor\n",
        "test_labels_tensor = torch.tensor(test_labels)\n",
        "\n",
        "# Now, test_labels_tensor contains the target labels for the test dataset as a tensor\n",
        "print(test_labels_tensor)"
      ],
      "metadata": {
        "id": "-CLVsS5fiBIq"
      },
      "execution_count": null,
      "outputs": []
    },
    {
      "cell_type": "markdown",
      "source": [
        "## MODEL 1 - EfficientNet"
      ],
      "metadata": {
        "id": "MsI3wL2ehj1x"
      }
    },
    {
      "cell_type": "code",
      "source": [
        "from tqdm.auto import tqdm\n",
        "torch.manual_seed(100)\n",
        "#1 . make predictions\n",
        "y_preds = []\n",
        "efficientnet_model.eval()\n",
        "with torch.inference_mode():\n",
        "  for X,y in tqdm(test_dataloader , desc = \"making predictions .....\"):\n",
        "    # send data to target device\n",
        "    X , y = X.to(device) , y.to(device)\n",
        "    # do forward pass\n",
        "    y_logit = efficientnet_model(X)\n",
        "    # Turn predictions from logits -> prediction probs -> pred labels\n",
        "    y_pred = torch.softmax(y_logit.squeeze(),dim=0).argmax(dim=1)\n",
        "    # put prediction on cpu for evaluation\n",
        "    y_preds.append(y_pred.cpu())\n",
        "\n",
        "# Concatenate\n",
        "y_pred_tensor1 = torch.cat(y_preds)\n",
        "y_pred_tensor1"
      ],
      "metadata": {
        "id": "SN79n7M5huOk"
      },
      "execution_count": null,
      "outputs": []
    },
    {
      "cell_type": "code",
      "source": [
        "from torchmetrics import ConfusionMatrix\n",
        "from mlxtend.plotting import plot_confusion_matrix\n",
        "torch.manual_seed(100)\n",
        "\n",
        "# 2. setup confusion matrix instance and compare predictions to target\n",
        "confmat = ConfusionMatrix(num_classes = len(emotion_labels),task = \"multiclass\")\n",
        "confmat_tensor = confmat(preds = y_pred_tensor1,\n",
        "                         target = test_labels_tensor)\n",
        "\n",
        "# 3. Plot confusion matrix\n",
        "fig , ax = plot_confusion_matrix(\n",
        "    conf_mat = confmat_tensor.numpy(),\n",
        "    class_names = class_names,\n",
        "    figsize=(10,7)\n",
        ")"
      ],
      "metadata": {
        "id": "Mm-MdA-Jh5QU"
      },
      "execution_count": null,
      "outputs": []
    },
    {
      "cell_type": "markdown",
      "source": [
        "## MODEL 2 - VGG16"
      ],
      "metadata": {
        "id": "CGpDVsT7jMmB"
      }
    },
    {
      "cell_type": "code",
      "source": [
        "from tqdm.auto import tqdm\n",
        "torch.manual_seed(100)\n",
        "#1 . make predictions\n",
        "y_preds = []\n",
        "vgg16_model.eval()\n",
        "with torch.inference_mode():\n",
        "  for X,y in tqdm(test_dataloader , desc = \"making predictions .....\"):\n",
        "    # send data to target device\n",
        "    X , y = X.to(device) , y.to(device)\n",
        "    # do forward pass\n",
        "    y_logit = vgg16_model(X)\n",
        "    # Turn predictions from logits -> prediction probs -> pred labels\n",
        "    y_pred = torch.softmax(y_logit.squeeze(),dim=0).argmax(dim=1)\n",
        "    # put prediction on cpu for evaluation\n",
        "    y_preds.append(y_pred.cpu())\n",
        "\n",
        "# Concatenate\n",
        "y_pred_tensor2 = torch.cat(y_preds)\n",
        "y_pred_tensor2"
      ],
      "metadata": {
        "id": "pneuzCILjPj9"
      },
      "execution_count": null,
      "outputs": []
    },
    {
      "cell_type": "code",
      "source": [
        "from torchmetrics import ConfusionMatrix\n",
        "from mlxtend.plotting import plot_confusion_matrix\n",
        "\n",
        "torch.manual_seed(100)\n",
        "\n",
        "# 2. setup confusion matrix instance and compare predictions to target\n",
        "confmat = ConfusionMatrix(num_classes = len(emotion_labels),task = \"multiclass\")\n",
        "confmat_tensor = confmat(preds = y_pred_tensor2,\n",
        "                         target = test_labels_tensor)\n",
        "\n",
        "# 3. Plot confusion matrix\n",
        "fig , ax = plot_confusion_matrix(\n",
        "    conf_mat = confmat_tensor.numpy(),\n",
        "    class_names = class_names,\n",
        "    figsize=(10,7)\n",
        ")"
      ],
      "metadata": {
        "id": "s0jMXjEVjVr6"
      },
      "execution_count": null,
      "outputs": []
    },
    {
      "cell_type": "markdown",
      "source": [
        "## MODEL 3 - ResNet50"
      ],
      "metadata": {
        "id": "FGLVG3tsitRr"
      }
    },
    {
      "cell_type": "code",
      "source": [
        "from tqdm.auto import tqdm\n",
        "torch.manual_seed(100)\n",
        "#1 . make predictions\n",
        "y_preds = []\n",
        "resnet50_model.eval()\n",
        "with torch.inference_mode():\n",
        "  for X,y in tqdm(test_dataloader , desc = \"making predictions .....\"):\n",
        "    # send data to target device\n",
        "    X , y = X.to(device) , y.to(device)\n",
        "    # do forward pass\n",
        "    y_logit = resnet50_model(X)\n",
        "    # Turn predictions from logits -> prediction probs -> pred labels\n",
        "    y_pred = torch.softmax(y_logit.squeeze(),dim=0).argmax(dim=1)\n",
        "    # put prediction on cpu for evaluation\n",
        "    y_preds.append(y_pred.cpu())\n",
        "\n",
        "# Concatenate\n",
        "y_pred_tensor3 = torch.cat(y_preds)\n",
        "y_pred_tensor3"
      ],
      "metadata": {
        "id": "kCt3ehlYdCu-"
      },
      "execution_count": null,
      "outputs": []
    },
    {
      "cell_type": "code",
      "source": [
        "from torchmetrics import ConfusionMatrix\n",
        "from mlxtend.plotting import plot_confusion_matrix\n",
        "\n",
        "torch.manual_seed(100)\n",
        "\n",
        "# 2. setup confusion matrix instance and compare predictions to target\n",
        "confmat = ConfusionMatrix(num_classes = len(emotion_labels),task = \"multiclass\")\n",
        "confmat_tensor = confmat(preds = y_pred_tensor3,\n",
        "                         target = test_labels_tensor)\n",
        "\n",
        "# 3. Plot confusion matrix\n",
        "fig , ax = plot_confusion_matrix(\n",
        "    conf_mat = confmat_tensor.numpy(),\n",
        "    class_names = class_names,\n",
        "    figsize=(10,7)\n",
        ")"
      ],
      "metadata": {
        "id": "WsucdQd0b2Ci"
      },
      "execution_count": null,
      "outputs": []
    },
    {
      "cell_type": "markdown",
      "source": [
        "#Loss Curves"
      ],
      "metadata": {
        "id": "PR4seEvu5xuh"
      }
    },
    {
      "cell_type": "code",
      "source": [
        "results_efficientnet.keys()"
      ],
      "metadata": {
        "id": "1hGw8KPodjYD"
      },
      "execution_count": null,
      "outputs": []
    },
    {
      "cell_type": "code",
      "source": [
        "from typing import Dict, List"
      ],
      "metadata": {
        "id": "gcBQtFjpC4cZ"
      },
      "execution_count": null,
      "outputs": []
    },
    {
      "cell_type": "code",
      "source": [
        "def plot_loss_curves(results : Dict[str,List[float]]):\n",
        "  \"\"\" Plots training curvesof a results dictionary\"\"\"\n",
        "\n",
        "  loss = results[\"train_loss\"]\n",
        "  test_loss = results[\"test_loss\"]\n",
        "\n",
        "  accuracy = results[\"train_acc\"]\n",
        "  test_accuracy = results[\"test_acc\"]\n",
        "\n",
        "  # count epochs\n",
        "  epochs = range(len(results[\"train_loss\"]))\n",
        "\n",
        "  # plot\n",
        "  plt.figure(figsize = (15,7))\n",
        "\n",
        "  # plot loss\n",
        "  plt.subplot(1,2,1)\n",
        "  plt.plot(epochs,loss,label=\"train_loss\")\n",
        "  plt.plot(epochs,test_loss,label=\"test_loss\")\n",
        "  plt.title(\"loss\")\n",
        "  plt.xlabel(\"Epochs\")\n",
        "  plt.legend()\n",
        "\n",
        "  # plot accuracy\n",
        "  plt.subplot(1,2,2)\n",
        "  plt.plot(epochs,accuracy,label=\"train_accuracy\")\n",
        "  plt.plot(epochs,test_accuracy,label=\"test_accuracy\")\n",
        "  plt.title(\"Accuracy\")\n",
        "  plt.xlabel(\"Epochs\")\n",
        "  plt.legend()\n"
      ],
      "metadata": {
        "id": "37cD5Z8h7HCk"
      },
      "execution_count": null,
      "outputs": []
    },
    {
      "cell_type": "markdown",
      "source": [
        "## EfficientNet Loss and accuracy curves"
      ],
      "metadata": {
        "id": "JhCCVeDVavYm"
      }
    },
    {
      "cell_type": "code",
      "source": [
        "# After collecting training and testing metrics\n",
        "import numpy as np\n",
        "\n",
        "for key in results_efficientnet:\n",
        "    results_efficientnet[key] = [value.cpu().detach().numpy() if isinstance(value, torch.Tensor) else value for value in results_efficientnet[key]]\n",
        "\n",
        "# Plot the loss and accuracy curves\n",
        "plot_loss_curves(results_efficientnet)"
      ],
      "metadata": {
        "id": "21ROctEkAqp3"
      },
      "execution_count": null,
      "outputs": []
    },
    {
      "cell_type": "markdown",
      "source": [
        "## VGG16 Loss and accuracy curves"
      ],
      "metadata": {
        "id": "u4iBAZ0Qa6Wa"
      }
    },
    {
      "cell_type": "code",
      "source": [
        "# After collecting training and testing metrics\n",
        "import numpy as np\n",
        "\n",
        "for key in results_vgg16:\n",
        "    results_vgg16[key] = [value.cpu().detach().numpy() if isinstance(value, torch.Tensor) else value for value in results_vgg16[key]]\n",
        "\n",
        "# Plot the loss and accuracy curves\n",
        "plot_loss_curves(results_vgg16)"
      ],
      "metadata": {
        "id": "1o51UUZZA2vM"
      },
      "execution_count": null,
      "outputs": []
    },
    {
      "cell_type": "markdown",
      "source": [
        "## ResNet50 Loss and accuracy curves"
      ],
      "metadata": {
        "id": "OR-KROA2a-a7"
      }
    },
    {
      "cell_type": "code",
      "source": [
        "# After collecting training and testing metrics\n",
        "import numpy as np\n",
        "\n",
        "for key in results_resnet50:\n",
        "    results_resnet50[key] = [value.cpu().detach().numpy() if isinstance(value, torch.Tensor) else value for value in results_resnet50[key]]\n",
        "\n",
        "# Plot the loss and accuracy curves\n",
        "plot_loss_curves(results_resnet50)"
      ],
      "metadata": {
        "id": "XGJRauMvA42s"
      },
      "execution_count": null,
      "outputs": []
    },
    {
      "cell_type": "markdown",
      "source": [
        "## Comparison of loss curves and accuracy in efficientNet , VGG16 , Resnet50 Models"
      ],
      "metadata": {
        "id": "DSk61H0QbDWP"
      }
    },
    {
      "cell_type": "code",
      "source": [
        "import pandas as pd\n",
        "\n",
        "model_efficientnet_df = pd.DataFrame(results_efficientnet)\n",
        "model_vgg16_df = pd.DataFrame(results_vgg16)\n",
        "model_resnet50_df = pd.DataFrame(results_resnet50)"
      ],
      "metadata": {
        "id": "oLwO3ji-FDO1"
      },
      "execution_count": null,
      "outputs": []
    },
    {
      "cell_type": "code",
      "source": [
        "# SetUp a plot\n",
        "\n",
        "plt.figure(figsize=(15,10))\n",
        "\n",
        "# get epochs\n",
        "epochs = range(len(model_resnet50_df))\n",
        "\n",
        "# plot train loss\n",
        "plt.subplot(2,2,1)\n",
        "plt.plot(epochs,model_efficientnet_df[\"train_loss\"],label=\"EfficientNet Model\")\n",
        "plt.plot(epochs,model_vgg16_df[\"train_loss\"],label=\"VGG16 Model\")\n",
        "plt.plot(epochs,model_resnet50_df[\"train_loss\"],label=\"ResNet50 Model\")\n",
        "plt.title(\"Train Loss\")\n",
        "plt.xlabel(\"Epochs\")\n",
        "plt.legend()\n",
        "\n",
        "# plot test loss\n",
        "plt.subplot(2,2,2)\n",
        "plt.plot(epochs,model_efficientnet_df[\"test_loss\"],label=\"EfficientNet Model\")\n",
        "plt.plot(epochs,model_vgg16_df[\"test_loss\"],label=\"VGG16 Model\")\n",
        "plt.plot(epochs,model_resnet50_df[\"test_loss\"],label=\"ResNet50 Model\")\n",
        "plt.title(\"Test Loss\")\n",
        "plt.xlabel(\"Epochs\")\n",
        "plt.legend()\n",
        "\n",
        "# plot train accuracy\n",
        "plt.subplot(2,2,3)\n",
        "plt.plot(epochs,model_efficientnet_df[\"train_acc\"],label=\"EfficientNet Model\")\n",
        "plt.plot(epochs,model_vgg16_df[\"train_acc\"],label=\"VGG16 Model\")\n",
        "plt.plot(epochs,model_resnet50_df[\"train_acc\"],label=\"ResNet50 Model\")\n",
        "plt.title(\"Train Accuracy\")\n",
        "plt.xlabel(\"Epochs\")\n",
        "plt.legend()\n",
        "\n",
        "# plot test accuracy\n",
        "plt.subplot(2,2,4)\n",
        "plt.plot(epochs,model_efficientnet_df[\"test_acc\"],label=\"EfficientNet Model\")\n",
        "plt.plot(epochs,model_vgg16_df[\"test_acc\"],label=\"VGG16 Model\")\n",
        "plt.plot(epochs,model_resnet50_df[\"test_acc\"],label=\"ResNet50 Model\")\n",
        "plt.title(\"Test Accuracy\")\n",
        "plt.xlabel(\"Epochs\")\n",
        "plt.legend()\n",
        "\n"
      ],
      "metadata": {
        "id": "nOf2YZPDGe1b"
      },
      "execution_count": null,
      "outputs": []
    },
    {
      "cell_type": "code",
      "source": [],
      "metadata": {
        "id": "9iBfb98mLu3V"
      },
      "execution_count": null,
      "outputs": []
    }
  ]
}